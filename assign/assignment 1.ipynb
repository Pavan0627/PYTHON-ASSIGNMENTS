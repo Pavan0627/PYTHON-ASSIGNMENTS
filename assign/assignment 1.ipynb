{
 "cells": [
  {
   "cell_type": "code",
   "execution_count": 5,
   "id": "bfb952d0",
   "metadata": {},
   "outputs": [],
   "source": [
    "import numpy as np"
   ]
  },
  {
   "cell_type": "code",
   "execution_count": 8,
   "id": "1d67ae9a",
   "metadata": {},
   "outputs": [
    {
     "data": {
      "text/plain": [
       "array([[ True,  True,  True],\n",
       "       [ True,  True,  True],\n",
       "       [ True,  True,  True]])"
      ]
     },
     "execution_count": 8,
     "metadata": {},
     "output_type": "execute_result"
    }
   ],
   "source": [
    "#1  Create a 3×3 numpy array of all True’s \n",
    "x=np.ones((3,3),dtype=bool)\n",
    "x"
   ]
  },
  {
   "cell_type": "code",
   "execution_count": 13,
   "id": "27c457f0",
   "metadata": {},
   "outputs": [
    {
     "data": {
      "text/plain": [
       "array([2])"
      ]
     },
     "execution_count": 13,
     "metadata": {},
     "output_type": "execute_result"
    }
   ],
   "source": [
    "#2 Extract all odd numbers from arrays \n",
    "n=np.arange(10)\n",
    "n\n"
   ]
  },
  {
   "cell_type": "code",
   "execution_count": 15,
   "id": "9b4e5c9b",
   "metadata": {},
   "outputs": [
    {
     "data": {
      "text/plain": [
       "array([1, 3, 5, 7, 9])"
      ]
     },
     "execution_count": 15,
     "metadata": {},
     "output_type": "execute_result"
    }
   ],
   "source": [
    "n[n%2==1]"
   ]
  },
  {
   "cell_type": "code",
   "execution_count": 17,
   "id": "f9c1687e",
   "metadata": {},
   "outputs": [
    {
     "data": {
      "text/plain": [
       "array([0, 2, 4, 6, 8])"
      ]
     },
     "execution_count": 17,
     "metadata": {},
     "output_type": "execute_result"
    }
   ],
   "source": [
    "#3 Replace all even numbers in above array with -5 \n",
    "n[n%2==0]"
   ]
  },
  {
   "cell_type": "code",
   "execution_count": 20,
   "id": "3077a6e5",
   "metadata": {},
   "outputs": [
    {
     "name": "stdout",
     "output_type": "stream",
     "text": [
      "[0 1 2 3 4 5 6 7 8 9]\n"
     ]
    },
    {
     "data": {
      "text/plain": [
       "array([[0, 1, 2, 3, 4],\n",
       "       [5, 6, 7, 8, 9]])"
      ]
     },
     "execution_count": 20,
     "metadata": {},
     "output_type": "execute_result"
    }
   ],
   "source": [
    "#4 Reshape an array \n",
    "print(n)\n",
    "n.reshape(2,5)"
   ]
  },
  {
   "cell_type": "code",
   "execution_count": 21,
   "id": "8234f3b7",
   "metadata": {},
   "outputs": [
    {
     "data": {
      "text/plain": [
       "False"
      ]
     },
     "execution_count": 21,
     "metadata": {},
     "output_type": "execute_result"
    }
   ],
   "source": [
    "#5 How to get the positions where elements of two arrays match \n",
    "\n",
    "a = np.array([1,2,3,2,3,4,3,4,5,6]) \n",
    "b = np.array([7,2,10,2,7,4,9,4,9,8]) \n",
    "\n",
    "(a==b).all()"
   ]
  },
  {
   "cell_type": "code",
   "execution_count": 25,
   "id": "581dfdbd",
   "metadata": {},
   "outputs": [
    {
     "data": {
      "text/plain": [
       "(array([1, 3, 5, 7], dtype=int64),)"
      ]
     },
     "execution_count": 25,
     "metadata": {},
     "output_type": "execute_result"
    }
   ],
   "source": [
    "np.where(a==b)"
   ]
  },
  {
   "cell_type": "code",
   "execution_count": 27,
   "id": "7f1de795",
   "metadata": {},
   "outputs": [
    {
     "data": {
      "text/plain": [
       "4"
      ]
     },
     "execution_count": 27,
     "metadata": {},
     "output_type": "execute_result"
    }
   ],
   "source": [
    "np.sum(a==b)"
   ]
  },
  {
   "cell_type": "code",
   "execution_count": 39,
   "id": "b55ebb1c",
   "metadata": {},
   "outputs": [
    {
     "data": {
      "text/plain": [
       "array([[1, 2, 3],\n",
       "       [4, 5, 6],\n",
       "       [7, 8, 9]])"
      ]
     },
     "execution_count": 39,
     "metadata": {},
     "output_type": "execute_result"
    }
   ],
   "source": [
    "#6 Swap columns 1 and 2 in the array \n",
    "s=np.array([[1,2,3],[4,5,6],[7,8,9]])\n",
    "s\n"
   ]
  },
  {
   "cell_type": "code",
   "execution_count": 42,
   "id": "27388b0e",
   "metadata": {},
   "outputs": [
    {
     "name": "stdout",
     "output_type": "stream",
     "text": [
      "after swaping the array : \n",
      " [[2 1 3]\n",
      " [5 4 6]\n",
      " [8 7 9]]\n"
     ]
    }
   ],
   "source": [
    "s[:, [1, 0]] = s[:, [0, 1]]\n",
    "print(\"after swaping the array :\", \"\\n\",s)"
   ]
  },
  {
   "cell_type": "code",
   "execution_count": 45,
   "id": "ca7441c4",
   "metadata": {},
   "outputs": [
    {
     "data": {
      "text/plain": [
       "array([[1, 2, 3],\n",
       "       [4, 5, 6],\n",
       "       [7, 8, 9]])"
      ]
     },
     "execution_count": 45,
     "metadata": {},
     "output_type": "execute_result"
    }
   ],
   "source": [
    "#7 Reversing the columns of a 2D array \n",
    "r=np.array([[1,2,3],[4,5,6],[7,8,9]])\n",
    "r"
   ]
  },
  {
   "cell_type": "code",
   "execution_count": 47,
   "id": "98a7d5f2",
   "metadata": {},
   "outputs": [
    {
     "name": "stdout",
     "output_type": "stream",
     "text": [
      "Array before changing column order:\n",
      " [[1 2 3]\n",
      " [4 5 6]\n",
      " [7 8 9]]\n",
      "\n",
      "Array after changing column order:\n",
      " [[3 2 1]\n",
      " [6 5 4]\n",
      " [9 8 7]]\n"
     ]
    }
   ],
   "source": [
    "flipped_arr = np.fliplr(r)\n",
    " \n",
    "print('Array before changing column order:\\n', r)\n",
    "print('\\nArray after changing column order:\\n', flipped_arr)"
   ]
  },
  {
   "cell_type": "code",
   "execution_count": 50,
   "id": "79078575",
   "metadata": {},
   "outputs": [
    {
     "data": {
      "text/plain": [
       "array([[3, 2, 1],\n",
       "       [6, 5, 4],\n",
       "       [9, 8, 7]])"
      ]
     },
     "execution_count": 50,
     "metadata": {},
     "output_type": "execute_result"
    }
   ],
   "source": [
    "#7 or we can use this method too\n",
    "# Get a reversed view of numpy array\n",
    "reverse = np.flip(r[::-1])\n",
    "reverse"
   ]
  },
  {
   "cell_type": "code",
   "execution_count": 55,
   "id": "c3745cae",
   "metadata": {},
   "outputs": [
    {
     "data": {
      "text/plain": [
       "array([[9, 8, 7],\n",
       "       [6, 5, 4],\n",
       "       [3, 2, 1]])"
      ]
     },
     "execution_count": 55,
     "metadata": {},
     "output_type": "execute_result"
    }
   ],
   "source": [
    "np.flip(r[::1])"
   ]
  },
  {
   "cell_type": "code",
   "execution_count": 59,
   "id": "063592ef",
   "metadata": {},
   "outputs": [
    {
     "name": "stdout",
     "output_type": "stream",
     "text": [
      "Original Array:\n",
      "[[0.05567022 0.44443987 0.99497766 0.79770698 0.66451178]\n",
      " [0.43490211 0.18847526 0.74948139 0.22863097 0.24388836]\n",
      " [0.70799332 0.06163328 0.82924234 0.41249998 0.3511572 ]\n",
      " [0.41197145 0.76762925 0.57118479 0.17302669 0.06410567]\n",
      " [0.75993507 0.07766471 0.82396239 0.93920098 0.35315715]]\n"
     ]
    }
   ],
   "source": [
    "#8 Create a 2D array of shape 5x3 to contain random decimal numbers between 5 and 10 \n",
    "d = np.random.random((5,5))\n",
    "\n",
    "print(\"Original Array:\")\n",
    "print(d) \n"
   ]
  },
  {
   "cell_type": "code",
   "execution_count": 63,
   "id": "9cd698a3",
   "metadata": {},
   "outputs": [
    {
     "name": "stdout",
     "output_type": "stream",
     "text": [
      " Array filled with random values : \n",
      " [[7.83159323 9.35721045 6.51343979]\n",
      " [9.43567538 8.88976765 7.35668343]\n",
      " [9.89992084 5.16347133 9.78537647]\n",
      " [7.76880637 8.0700573  9.11958191]\n",
      " [7.53578256 9.24489557 7.83291049]]\n"
     ]
    }
   ],
   "source": [
    "array = np.random.uniform(low=5,high=10,size=(5,3))\n",
    "print(\" Array filled with random values : \\n\", array);"
   ]
  },
  {
   "cell_type": "code",
   "execution_count": 65,
   "id": "c52a8837",
   "metadata": {},
   "outputs": [
    {
     "name": "stdout",
     "output_type": "stream",
     "text": [
      "Original x:\n",
      "[[1. 1. 1. 1. 1. 1. 1. 1. 1. 1.]\n",
      " [1. 1. 1. 1. 1. 1. 1. 1. 1. 1.]\n",
      " [1. 1. 1. 1. 1. 1. 1. 1. 1. 1.]\n",
      " [1. 1. 1. 1. 1. 1. 1. 1. 1. 1.]\n",
      " [1. 1. 1. 1. 1. 1. 1. 1. 1. 1.]\n",
      " [1. 1. 1. 1. 1. 1. 1. 1. 1. 1.]\n",
      " [1. 1. 1. 1. 1. 1. 1. 1. 1. 1.]\n",
      " [1. 1. 1. 1. 1. 1. 1. 1. 1. 1.]\n",
      " [1. 1. 1. 1. 1. 1. 1. 1. 1. 1.]\n",
      " [1. 1. 1. 1. 1. 1. 1. 1. 1. 1.]]\n",
      " border 1\n",
      "[[1. 1. 1. 1. 1. 1. 1. 1. 1. 1.]\n",
      " [1. 0. 0. 0. 0. 0. 0. 0. 0. 1.]\n",
      " [1. 0. 0. 0. 0. 0. 0. 0. 0. 1.]\n",
      " [1. 0. 0. 0. 0. 0. 0. 0. 0. 1.]\n",
      " [1. 0. 0. 0. 0. 0. 0. 0. 0. 1.]\n",
      " [1. 0. 0. 0. 0. 0. 0. 0. 0. 1.]\n",
      " [1. 0. 0. 0. 0. 0. 0. 0. 0. 1.]\n",
      " [1. 0. 0. 0. 0. 0. 0. 0. 0. 1.]\n",
      " [1. 0. 0. 0. 0. 0. 0. 0. 0. 1.]\n",
      " [1. 1. 1. 1. 1. 1. 1. 1. 1. 1.]]\n"
     ]
    }
   ],
   "source": [
    "#9 Create a 2d array with 1 on the border and 0 inside\n",
    "x = np.ones((10,10))\n",
    "print(\"Original x:\")\n",
    "print(x)\n",
    "print(\" border 1 and inside 0\")\n",
    "x[1:-1,1:-1] = 0\n",
    "print(x)"
   ]
  },
  {
   "cell_type": "code",
   "execution_count": 72,
   "id": "1805de37",
   "metadata": {},
   "outputs": [
    {
     "data": {
      "text/plain": [
       "array([[ 9,  1, 12,  3],\n",
       "       [14, 15,  6,  7],\n",
       "       [18,  9, 10, 11]])"
      ]
     },
     "execution_count": 72,
     "metadata": {},
     "output_type": "execute_result"
    }
   ],
   "source": [
    "#Write script to produce the desired output. Use of fancy indexing is must.  \n",
    "X = np.array([[ 9,   1,  12,  3], [ 14,  15,  6,  7], [ 18,  9,  10, 11]]) \n",
    "X"
   ]
  },
  {
   "cell_type": "code",
   "execution_count": 71,
   "id": "9c373dbf",
   "metadata": {},
   "outputs": [
    {
     "name": "stdout",
     "output_type": "stream",
     "text": [
      "row: [0 1 2]\n",
      "col: [2 0 3]\n"
     ]
    },
    {
     "data": {
      "text/plain": [
       "array([12, 14, 11])"
      ]
     },
     "execution_count": 71,
     "metadata": {},
     "output_type": "execute_result"
    }
   ],
   "source": [
    "row=np.array([0,1,2])\n",
    "col=np.array([2,0,3])\n",
    "print(\"row:\",row)\n",
    "print(\"col:\",col)\n",
    "X[row,col]"
   ]
  }
 ],
 "metadata": {
  "kernelspec": {
   "display_name": "Python 3 (ipykernel)",
   "language": "python",
   "name": "python3"
  },
  "language_info": {
   "codemirror_mode": {
    "name": "ipython",
    "version": 3
   },
   "file_extension": ".py",
   "mimetype": "text/x-python",
   "name": "python",
   "nbconvert_exporter": "python",
   "pygments_lexer": "ipython3",
   "version": "3.9.12"
  }
 },
 "nbformat": 4,
 "nbformat_minor": 5
}
