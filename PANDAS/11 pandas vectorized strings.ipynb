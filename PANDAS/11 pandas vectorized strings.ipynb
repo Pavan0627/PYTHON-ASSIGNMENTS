{
 "cells": [
  {
   "cell_type": "markdown",
   "id": "09b450db",
   "metadata": {},
   "source": [
    "Pandas builds on this and provides a comprehensive set of vectorized string operations that become an essential piece of the type of munging required when working with (read: cleaning up) real-world data. In this section, we'll walk through some of the Pandas string operations, and then take a look at using them to partially clean up a very messy dataset of recipes collected from the Internet."
   ]
  },
  {
   "cell_type": "code",
   "execution_count": 2,
   "id": "a1552b28",
   "metadata": {},
   "outputs": [],
   "source": [
    "import numpy as np\n",
    "import pandas as pd\n"
   ]
  },
  {
   "cell_type": "code",
   "execution_count": 3,
   "id": "e5b04e2b",
   "metadata": {},
   "outputs": [
    {
     "data": {
      "text/plain": [
       "array([ 4,  6, 10, 14, 22, 26])"
      ]
     },
     "execution_count": 3,
     "metadata": {},
     "output_type": "execute_result"
    }
   ],
   "source": [
    "x = np.array([2, 3, 5, 7, 11, 13])\n",
    "x * 2"
   ]
  },
  {
   "cell_type": "code",
   "execution_count": 4,
   "id": "b704c8a3",
   "metadata": {},
   "outputs": [],
   "source": [
    "# data = ['peter', 'Paul', 'MARY', 'gUIDO']\n",
    "# [s.capitalize() for s in data]"
   ]
  },
  {
   "cell_type": "markdown",
   "id": "e7066b07",
   "metadata": {},
   "source": [
    "This is perhaps sufficient to work with some data, but it will break if there are any missing values. For example:\n",
    "\n",
    "data = ['peter', 'Paul', None, 'MARY', 'gUIDO']\n",
    "[s.capitalize() for s in data]\n",
    "\n",
    "Pandas includes features to address both this need for vectorized string operations and for correctly handling missing data via the str attribute of Pandas Series and Index objects containing strings. So, for example, suppose we create a Pandas Series with this data:"
   ]
  },
  {
   "cell_type": "code",
   "execution_count": 5,
   "id": "db31b46f",
   "metadata": {},
   "outputs": [
    {
     "data": {
      "text/plain": [
       "0    peter\n",
       "1     Paul\n",
       "2     MARY\n",
       "3    gUIDO\n",
       "dtype: object"
      ]
     },
     "execution_count": 5,
     "metadata": {},
     "output_type": "execute_result"
    }
   ],
   "source": [
    "data = ['peter', 'Paul', 'MARY', 'gUIDO']\n",
    "names=pd.Series(data)\n",
    "names"
   ]
  },
  {
   "cell_type": "code",
   "execution_count": 6,
   "id": "c4ef82af",
   "metadata": {},
   "outputs": [
    {
     "data": {
      "text/plain": [
       "0    Peter\n",
       "1     Paul\n",
       "2     Mary\n",
       "3    Guido\n",
       "dtype: object"
      ]
     },
     "execution_count": 6,
     "metadata": {},
     "output_type": "execute_result"
    }
   ],
   "source": [
    "names.str.capitalize()"
   ]
  },
  {
   "cell_type": "markdown",
   "id": "f17d9582",
   "metadata": {},
   "source": [
    "## Methods similar to Python string methods\n",
    "Nearly all Python's built-in string methods are mirrored by a Pandas vectorized string method. Here is a list of Pandas str methods that mirror Python string methods:\n",
    "\n",
    "    len()\tlower()\ttranslate()\tislower()\n",
    "\n",
    "    ljust()\tupper()\tstartswith()\tisupper()\n",
    "    \n",
    "    rjust()\tfind()\tendswith()\tisnumeric()\n",
    "\n",
    "    center()\trfind()\tisalnum()\tisdecimal()\n",
    "\n",
    "    zfill()\tindex()\tisalpha()\tsplit()\n",
    "\n",
    "    strip()\trindex()\tisdigit()\trsplit()\n",
    "\n",
    "    rstrip()\tcapitalize()\tisspace()\tpartition()\n",
    "\n",
    "    lstrip()\tswapcase()\tistitle()\trpartition()\n",
    "\n",
    "Notice that these have various return values. Some, like lower(), return a series of strings:"
   ]
  },
  {
   "cell_type": "code",
   "execution_count": 7,
   "id": "5aa71b57",
   "metadata": {},
   "outputs": [],
   "source": [
    "DS = pd.Series(['shubham  chavan', 'harshad  kalsait', 'bhushan  bhagul',\n",
    "                   'magadh singh', 'pavan bhandare', 'rohit kulhat','gauri auti'])"
   ]
  },
  {
   "cell_type": "code",
   "execution_count": 8,
   "id": "78b6a39e",
   "metadata": {},
   "outputs": [
    {
     "data": {
      "text/plain": [
       "0     shubham  chavan\n",
       "1    harshad  kalsait\n",
       "2     bhushan  bhagul\n",
       "3        magadh singh\n",
       "4      pavan bhandare\n",
       "5        rohit kulhat\n",
       "6          gauri auti\n",
       "dtype: object"
      ]
     },
     "execution_count": 8,
     "metadata": {},
     "output_type": "execute_result"
    }
   ],
   "source": [
    "DS.str.lower()"
   ]
  },
  {
   "cell_type": "code",
   "execution_count": 9,
   "id": "1873fc43",
   "metadata": {},
   "outputs": [
    {
     "data": {
      "text/plain": [
       "0    15\n",
       "1    16\n",
       "2    15\n",
       "3    12\n",
       "4    14\n",
       "5    12\n",
       "6    10\n",
       "dtype: int64"
      ]
     },
     "execution_count": 9,
     "metadata": {},
     "output_type": "execute_result"
    }
   ],
   "source": [
    "DS.str.len()"
   ]
  },
  {
   "cell_type": "code",
   "execution_count": 10,
   "id": "98c4edf8",
   "metadata": {},
   "outputs": [
    {
     "data": {
      "text/plain": [
       "0    False\n",
       "1     True\n",
       "2    False\n",
       "3    False\n",
       "4    False\n",
       "5    False\n",
       "6    False\n",
       "dtype: bool"
      ]
     },
     "execution_count": 10,
     "metadata": {},
     "output_type": "execute_result"
    }
   ],
   "source": [
    "DS.str.startswith('h')"
   ]
  },
  {
   "cell_type": "code",
   "execution_count": 11,
   "id": "18b5e576",
   "metadata": {},
   "outputs": [
    {
     "data": {
      "text/plain": [
       "0     [shubham, chavan]\n",
       "1    [harshad, kalsait]\n",
       "2     [bhushan, bhagul]\n",
       "3       [magadh, singh]\n",
       "4     [pavan, bhandare]\n",
       "5       [rohit, kulhat]\n",
       "6         [gauri, auti]\n",
       "dtype: object"
      ]
     },
     "execution_count": 11,
     "metadata": {},
     "output_type": "execute_result"
    }
   ],
   "source": [
    "DS.str.split()"
   ]
  },
  {
   "cell_type": "code",
   "execution_count": 12,
   "id": "df17750f",
   "metadata": {},
   "outputs": [
    {
     "data": {
      "text/plain": [
       "0     shubham  chavan\n",
       "1    harshad  kalsait\n",
       "2     bhushan  bhagul\n",
       "3        magadh singh\n",
       "4      pavan bhandare\n",
       "5        rohit kulhat\n",
       "6          gauri auti\n",
       "dtype: object"
      ]
     },
     "execution_count": 12,
     "metadata": {},
     "output_type": "execute_result"
    }
   ],
   "source": [
    "DS.str.strip()"
   ]
  },
  {
   "cell_type": "markdown",
   "id": "7ef97beb",
   "metadata": {},
   "source": [
    "### Methods using regular expressions\n",
    "In addition, there are several methods that accept regular expressions to examine the content of each string element, and follow some of the API conventions of Python's built-in re module:\n",
    "\n",
    "Method\tDescription\n",
    "\n",
    "    match()\tCall re.match() on each element, returning a boolean.\n",
    "        \n",
    "    findall()\tCall re.findall() on each element\n",
    "    \n",
    "    replace()\tReplace occurrences of pattern with some other string\n",
    "    \n",
    "    contains()\tCall re.search() on each element, returning a boolean\n",
    "    \n",
    "    count()\tCount occurrences of pattern\n",
    "    \n",
    "    split()\tEquivalent to str.split(), but accepts regexps\n",
    "    \n",
    "    rsplit()\tEquivalent to str.rsplit(), but accepts regexps\n",
    "    \n",
    "With these, you can do a wide range of interesting operations. For example, we can extract the first name from each by asking for a contiguous group of characters at the beginning of each element:"
   ]
  },
  {
   "cell_type": "code",
   "execution_count": 13,
   "id": "a6fb2514",
   "metadata": {},
   "outputs": [
    {
     "data": {
      "text/plain": [
       "0    shubham\n",
       "1    harshad\n",
       "2    bhushan\n",
       "3     magadh\n",
       "4      pavan\n",
       "5      rohit\n",
       "6      gauri\n",
       "dtype: object"
      ]
     },
     "execution_count": 13,
     "metadata": {},
     "output_type": "execute_result"
    }
   ],
   "source": [
    "DS.str.extract('([A-Za-z]+)', expand=False)"
   ]
  },
  {
   "cell_type": "code",
   "execution_count": 14,
   "id": "92f1845f",
   "metadata": {},
   "outputs": [
    {
     "data": {
      "text/html": [
       "<div>\n",
       "<style scoped>\n",
       "    .dataframe tbody tr th:only-of-type {\n",
       "        vertical-align: middle;\n",
       "    }\n",
       "\n",
       "    .dataframe tbody tr th {\n",
       "        vertical-align: top;\n",
       "    }\n",
       "\n",
       "    .dataframe thead th {\n",
       "        text-align: right;\n",
       "    }\n",
       "</style>\n",
       "<table border=\"1\" class=\"dataframe\">\n",
       "  <thead>\n",
       "    <tr style=\"text-align: right;\">\n",
       "      <th></th>\n",
       "      <th>0</th>\n",
       "    </tr>\n",
       "  </thead>\n",
       "  <tbody>\n",
       "    <tr>\n",
       "      <th>0</th>\n",
       "      <td>shubham  chavan</td>\n",
       "    </tr>\n",
       "    <tr>\n",
       "      <th>1</th>\n",
       "      <td>harshad  kalsait</td>\n",
       "    </tr>\n",
       "    <tr>\n",
       "      <th>2</th>\n",
       "      <td>bhushan  bhagul</td>\n",
       "    </tr>\n",
       "    <tr>\n",
       "      <th>3</th>\n",
       "      <td>magadh singh</td>\n",
       "    </tr>\n",
       "    <tr>\n",
       "      <th>4</th>\n",
       "      <td>pavan bhandare</td>\n",
       "    </tr>\n",
       "    <tr>\n",
       "      <th>5</th>\n",
       "      <td>rohit kulhat</td>\n",
       "    </tr>\n",
       "    <tr>\n",
       "      <th>6</th>\n",
       "      <td>gauri auti</td>\n",
       "    </tr>\n",
       "  </tbody>\n",
       "</table>\n",
       "</div>"
      ],
      "text/plain": [
       "                  0\n",
       "0   shubham  chavan\n",
       "1  harshad  kalsait\n",
       "2   bhushan  bhagul\n",
       "3      magadh singh\n",
       "4    pavan bhandare\n",
       "5      rohit kulhat\n",
       "6        gauri auti"
      ]
     },
     "execution_count": 14,
     "metadata": {},
     "output_type": "execute_result"
    }
   ],
   "source": [
    "DS.str.extract('([A-Za-z].+)', expand=True )"
   ]
  },
  {
   "cell_type": "code",
   "execution_count": 15,
   "id": "afbef7ce",
   "metadata": {},
   "outputs": [
    {
     "data": {
      "text/plain": [
       "0    NaN\n",
       "1    NaN\n",
       "2    NaN\n",
       "3    NaN\n",
       "4    NaN\n",
       "5    NaN\n",
       "6    NaN\n",
       "dtype: object"
      ]
     },
     "execution_count": 15,
     "metadata": {},
     "output_type": "execute_result"
    }
   ],
   "source": [
    "DS.str.extract('([A-Za-z]+.[0-9]+.[A-Za-z]+)', expand=False)"
   ]
  },
  {
   "cell_type": "code",
   "execution_count": 16,
   "id": "da82d7b2",
   "metadata": {},
   "outputs": [
    {
     "data": {
      "text/plain": [
       "0     shubham  chavan\n",
       "1    harshad  kalsait\n",
       "2     bhushan  bhagul\n",
       "3        magadh singh\n",
       "4      pavan bhandare\n",
       "5        rohit kulhat\n",
       "6          gauri auti\n",
       "dtype: object"
      ]
     },
     "execution_count": 16,
     "metadata": {},
     "output_type": "execute_result"
    }
   ],
   "source": [
    "DS.str.extract('([A-Z a-z]+)', expand=False)"
   ]
  },
  {
   "cell_type": "markdown",
   "id": "141fb064",
   "metadata": {},
   "source": [
    "Or we can do something more complicated, like finding all names that start and end with a consonant, making use of the start-of-string (^) and end-of-string ($) regular expression characters"
   ]
  },
  {
   "cell_type": "code",
   "execution_count": 17,
   "id": "5154cdc1",
   "metadata": {},
   "outputs": [
    {
     "data": {
      "text/plain": [
       "0     [shubham  chavan]\n",
       "1    [harshad  kalsait]\n",
       "2     [bhushan  bhagul]\n",
       "3        [magadh singh]\n",
       "4                    []\n",
       "5        [rohit kulhat]\n",
       "6                    []\n",
       "dtype: object"
      ]
     },
     "execution_count": 17,
     "metadata": {},
     "output_type": "execute_result"
    }
   ],
   "source": [
    "DS.str.findall(r'^[^AEIOU].*[^aeiou]$')"
   ]
  },
  {
   "cell_type": "code",
   "execution_count": 18,
   "id": "46962b75",
   "metadata": {},
   "outputs": [
    {
     "data": {
      "text/plain": [
       "0     [shubham  chavan]\n",
       "1    [harshad  kalsait]\n",
       "2     [bhushan  bhagul]\n",
       "3        [magadh singh]\n",
       "4                    []\n",
       "5        [rohit kulhat]\n",
       "6                    []\n",
       "dtype: object"
      ]
     },
     "execution_count": 18,
     "metadata": {},
     "output_type": "execute_result"
    }
   ],
   "source": [
    "DS.str.findall(r'^[^AEIOUaeiou].*[^AEIOUaeiou]$')"
   ]
  },
  {
   "cell_type": "markdown",
   "id": "32f0f243",
   "metadata": {},
   "source": [
    "### Miscellaneous methods\n",
    "Finally, there are some miscellaneous methods that enable other convenient operations:\n",
    "\n",
    "Method\tDescription\n",
    "\n",
    "    get()\tIndex each element\n",
    "    \n",
    "    slice()\tSlice each element\n",
    "\n",
    "    slice_replace()\tReplace slice in each element with passed value\n",
    "\n",
    "    cat()\tConcatenate strings\n",
    "\n",
    "    repeat()\tRepeat values\n",
    "\n",
    "    normalize()\tReturn Unicode form of string\n",
    "\n",
    "    pad()\tAdd whitespace to left, right, or both sides of strings\n",
    "\n",
    "    wrap()\tSplit long strings into lines with length less than a given width\n",
    "\n",
    "    join()\tJoin strings in each element of the Series with passed separator\n",
    "\n",
    "    get_dummies()\textract dummy variables as a dataframe\n"
   ]
  },
  {
   "cell_type": "markdown",
   "id": "868b883c",
   "metadata": {},
   "source": [
    "###  Vectorized item access and slicing"
   ]
  },
  {
   "cell_type": "code",
   "execution_count": 25,
   "id": "2d62f324",
   "metadata": {},
   "outputs": [
    {
     "data": {
      "text/html": [
       "<div>\n",
       "<style scoped>\n",
       "    .dataframe tbody tr th:only-of-type {\n",
       "        vertical-align: middle;\n",
       "    }\n",
       "\n",
       "    .dataframe tbody tr th {\n",
       "        vertical-align: top;\n",
       "    }\n",
       "\n",
       "    .dataframe thead th {\n",
       "        text-align: right;\n",
       "    }\n",
       "</style>\n",
       "<table border=\"1\" class=\"dataframe\">\n",
       "  <thead>\n",
       "    <tr style=\"text-align: right;\">\n",
       "      <th></th>\n",
       "      <th>name</th>\n",
       "      <th>info</th>\n",
       "    </tr>\n",
       "  </thead>\n",
       "  <tbody>\n",
       "    <tr>\n",
       "      <th>0</th>\n",
       "      <td>SHUBHAM  CHAVAN</td>\n",
       "      <td>B|C|D</td>\n",
       "    </tr>\n",
       "    <tr>\n",
       "      <th>1</th>\n",
       "      <td>HARSHAD  KALSAIT</td>\n",
       "      <td>B|D</td>\n",
       "    </tr>\n",
       "    <tr>\n",
       "      <th>2</th>\n",
       "      <td>BHUSHAN  BHAGUL</td>\n",
       "      <td>A|C</td>\n",
       "    </tr>\n",
       "    <tr>\n",
       "      <th>3</th>\n",
       "      <td>MAGADH SINGH</td>\n",
       "      <td>B|D</td>\n",
       "    </tr>\n",
       "    <tr>\n",
       "      <th>4</th>\n",
       "      <td>PAVAN BHANDARE</td>\n",
       "      <td>B|C</td>\n",
       "    </tr>\n",
       "    <tr>\n",
       "      <th>5</th>\n",
       "      <td>ROHIT KULHAT</td>\n",
       "      <td>B|C|D</td>\n",
       "    </tr>\n",
       "    <tr>\n",
       "      <th>6</th>\n",
       "      <td>GAURI AUTI</td>\n",
       "      <td>A|B|C</td>\n",
       "    </tr>\n",
       "  </tbody>\n",
       "</table>\n",
       "</div>"
      ],
      "text/plain": [
       "               name   info\n",
       "0   SHUBHAM  CHAVAN  B|C|D\n",
       "1  HARSHAD  KALSAIT    B|D\n",
       "2   BHUSHAN  BHAGUL    A|C\n",
       "3      MAGADH SINGH    B|D\n",
       "4    PAVAN BHANDARE    B|C\n",
       "5      ROHIT KULHAT  B|C|D\n",
       "6        GAURI AUTI  A|B|C"
      ]
     },
     "execution_count": 25,
     "metadata": {},
     "output_type": "execute_result"
    }
   ],
   "source": [
    "full_DS = pd.DataFrame({'name': op,\n",
    "                           'info': ['B|C|D', 'B|D', 'A|C',\n",
    "                                    'B|D', 'B|C', 'B|C|D','A|B|C']})\n",
    "full_DS"
   ]
  },
  {
   "cell_type": "code",
   "execution_count": 20,
   "id": "7fa6a462",
   "metadata": {},
   "outputs": [
    {
     "data": {
      "text/plain": [
       "0     SHUBHAM  CHAVAN\n",
       "1    HARSHAD  KALSAIT\n",
       "2     BHUSHAN  BHAGUL\n",
       "3        MAGADH SINGH\n",
       "4      PAVAN BHANDARE\n",
       "5        ROHIT KULHAT\n",
       "6          GAURI AUTI\n",
       "dtype: object"
      ]
     },
     "execution_count": 20,
     "metadata": {},
     "output_type": "execute_result"
    }
   ],
   "source": [
    "op=DS.str.swapcase()\n",
    "op"
   ]
  },
  {
   "cell_type": "code",
   "execution_count": 26,
   "id": "b5e9fb80",
   "metadata": {},
   "outputs": [
    {
     "data": {
      "text/html": [
       "<div>\n",
       "<style scoped>\n",
       "    .dataframe tbody tr th:only-of-type {\n",
       "        vertical-align: middle;\n",
       "    }\n",
       "\n",
       "    .dataframe tbody tr th {\n",
       "        vertical-align: top;\n",
       "    }\n",
       "\n",
       "    .dataframe thead th {\n",
       "        text-align: right;\n",
       "    }\n",
       "</style>\n",
       "<table border=\"1\" class=\"dataframe\">\n",
       "  <thead>\n",
       "    <tr style=\"text-align: right;\">\n",
       "      <th></th>\n",
       "      <th>A</th>\n",
       "      <th>B</th>\n",
       "      <th>C</th>\n",
       "      <th>D</th>\n",
       "    </tr>\n",
       "  </thead>\n",
       "  <tbody>\n",
       "    <tr>\n",
       "      <th>0</th>\n",
       "      <td>0</td>\n",
       "      <td>1</td>\n",
       "      <td>1</td>\n",
       "      <td>1</td>\n",
       "    </tr>\n",
       "    <tr>\n",
       "      <th>1</th>\n",
       "      <td>0</td>\n",
       "      <td>1</td>\n",
       "      <td>0</td>\n",
       "      <td>1</td>\n",
       "    </tr>\n",
       "    <tr>\n",
       "      <th>2</th>\n",
       "      <td>1</td>\n",
       "      <td>0</td>\n",
       "      <td>1</td>\n",
       "      <td>0</td>\n",
       "    </tr>\n",
       "    <tr>\n",
       "      <th>3</th>\n",
       "      <td>0</td>\n",
       "      <td>1</td>\n",
       "      <td>0</td>\n",
       "      <td>1</td>\n",
       "    </tr>\n",
       "    <tr>\n",
       "      <th>4</th>\n",
       "      <td>0</td>\n",
       "      <td>1</td>\n",
       "      <td>1</td>\n",
       "      <td>0</td>\n",
       "    </tr>\n",
       "    <tr>\n",
       "      <th>5</th>\n",
       "      <td>0</td>\n",
       "      <td>1</td>\n",
       "      <td>1</td>\n",
       "      <td>1</td>\n",
       "    </tr>\n",
       "    <tr>\n",
       "      <th>6</th>\n",
       "      <td>1</td>\n",
       "      <td>1</td>\n",
       "      <td>1</td>\n",
       "      <td>0</td>\n",
       "    </tr>\n",
       "  </tbody>\n",
       "</table>\n",
       "</div>"
      ],
      "text/plain": [
       "   A  B  C  D\n",
       "0  0  1  1  1\n",
       "1  0  1  0  1\n",
       "2  1  0  1  0\n",
       "3  0  1  0  1\n",
       "4  0  1  1  0\n",
       "5  0  1  1  1\n",
       "6  1  1  1  0"
      ]
     },
     "execution_count": 26,
     "metadata": {},
     "output_type": "execute_result"
    }
   ],
   "source": [
    "full_DS['info'].str.get_dummies('|')"
   ]
  },
  {
   "cell_type": "markdown",
   "id": "4511dd82",
   "metadata": {},
   "source": [
    "# case study - Recipe Database"
   ]
  },
  {
   "cell_type": "code",
   "execution_count": 27,
   "id": "21e95c50",
   "metadata": {},
   "outputs": [
    {
     "data": {
      "text/html": [
       "<div>\n",
       "<style scoped>\n",
       "    .dataframe tbody tr th:only-of-type {\n",
       "        vertical-align: middle;\n",
       "    }\n",
       "\n",
       "    .dataframe tbody tr th {\n",
       "        vertical-align: top;\n",
       "    }\n",
       "\n",
       "    .dataframe thead th {\n",
       "        text-align: right;\n",
       "    }\n",
       "</style>\n",
       "<table border=\"1\" class=\"dataframe\">\n",
       "  <thead>\n",
       "    <tr style=\"text-align: right;\">\n",
       "      <th></th>\n",
       "      <th>name</th>\n",
       "      <th>ingredients</th>\n",
       "      <th>url</th>\n",
       "      <th>image</th>\n",
       "      <th>cookTime</th>\n",
       "      <th>recipeYield</th>\n",
       "      <th>datePublished</th>\n",
       "      <th>prepTime</th>\n",
       "      <th>description</th>\n",
       "    </tr>\n",
       "  </thead>\n",
       "  <tbody>\n",
       "    <tr>\n",
       "      <th>0</th>\n",
       "      <td>Easter Leftover Sandwich</td>\n",
       "      <td>12 whole Hard Boiled Eggs\\n1/2 cup Mayonnaise\\...</td>\n",
       "      <td>http://thepioneerwoman.com/cooking/2013/04/eas...</td>\n",
       "      <td>http://static.thepioneerwoman.com/cooking/file...</td>\n",
       "      <td>PT</td>\n",
       "      <td>8</td>\n",
       "      <td>2013-04-01</td>\n",
       "      <td>PT15M</td>\n",
       "      <td>Got leftover Easter eggs?    Got leftover East...</td>\n",
       "    </tr>\n",
       "    <tr>\n",
       "      <th>1</th>\n",
       "      <td>Pasta with Pesto Cream Sauce</td>\n",
       "      <td>3/4 cups Fresh Basil Leaves\\n1/2 cup Grated Pa...</td>\n",
       "      <td>http://thepioneerwoman.com/cooking/2011/06/pas...</td>\n",
       "      <td>http://static.thepioneerwoman.com/cooking/file...</td>\n",
       "      <td>PT10M</td>\n",
       "      <td>8</td>\n",
       "      <td>2011-06-06</td>\n",
       "      <td>PT6M</td>\n",
       "      <td>I finally have basil in my garden. Basil I can...</td>\n",
       "    </tr>\n",
       "    <tr>\n",
       "      <th>2</th>\n",
       "      <td>Herb Roasted Pork Tenderloin with Preserves</td>\n",
       "      <td>2 whole Pork Tenderloins\\n Salt And Pepper, to...</td>\n",
       "      <td>http://thepioneerwoman.com/cooking/2011/09/her...</td>\n",
       "      <td>http://static.thepioneerwoman.com/cooking/file...</td>\n",
       "      <td>PT15M</td>\n",
       "      <td>12</td>\n",
       "      <td>2011-09-15</td>\n",
       "      <td>PT5M</td>\n",
       "      <td>This was yummy. And easy. And pretty! And it t...</td>\n",
       "    </tr>\n",
       "    <tr>\n",
       "      <th>3</th>\n",
       "      <td>Chicken Florentine Pasta</td>\n",
       "      <td>1 pound Penne\\n4 whole Boneless, Skinless Chic...</td>\n",
       "      <td>http://thepioneerwoman.com/cooking/2012/04/chi...</td>\n",
       "      <td>http://static.thepioneerwoman.com/cooking/file...</td>\n",
       "      <td>PT20M</td>\n",
       "      <td>10</td>\n",
       "      <td>2012-04-23</td>\n",
       "      <td>PT10M</td>\n",
       "      <td>I made this for a late lunch Saturday, and it ...</td>\n",
       "    </tr>\n",
       "    <tr>\n",
       "      <th>4</th>\n",
       "      <td>Perfect Iced Coffee</td>\n",
       "      <td>1 pound Ground Coffee (good, Rich Roast)\\n8 qu...</td>\n",
       "      <td>http://thepioneerwoman.com/cooking/2011/06/per...</td>\n",
       "      <td>http://static.thepioneerwoman.com/cooking/file...</td>\n",
       "      <td>PT</td>\n",
       "      <td>24</td>\n",
       "      <td>2011-06-13</td>\n",
       "      <td>PT8H</td>\n",
       "      <td>Iced coffee is my life. When I wake up, often ...</td>\n",
       "    </tr>\n",
       "    <tr>\n",
       "      <th>...</th>\n",
       "      <td>...</td>\n",
       "      <td>...</td>\n",
       "      <td>...</td>\n",
       "      <td>...</td>\n",
       "      <td>...</td>\n",
       "      <td>...</td>\n",
       "      <td>...</td>\n",
       "      <td>...</td>\n",
       "      <td>...</td>\n",
       "    </tr>\n",
       "    <tr>\n",
       "      <th>1037</th>\n",
       "      <td>Golden Potstickers</td>\n",
       "      <td>1/2 cup sunflower oil\\n8 green onions / scalli...</td>\n",
       "      <td>http://www.101cookbooks.com/archives/golden-po...</td>\n",
       "      <td>http://www.101cookbooks.com/mt-static/images/f...</td>\n",
       "      <td>PT10M</td>\n",
       "      <td>Makes a big platter of dumplings.</td>\n",
       "      <td>2011-10-05</td>\n",
       "      <td>PT60M</td>\n",
       "      <td>Potstickers - For my flight to London,  I made...</td>\n",
       "    </tr>\n",
       "    <tr>\n",
       "      <th>1038</th>\n",
       "      <td>Gougères</td>\n",
       "      <td>2/3 cup / 160 ml beer / ale  OR water\\n1/3 cup...</td>\n",
       "      <td>http://www.101cookbooks.com/archives/gougares-...</td>\n",
       "      <td>http://www.101cookbooks.com/mt-static/images/f...</td>\n",
       "      <td>PT30M</td>\n",
       "      <td></td>\n",
       "      <td>2011-12-17</td>\n",
       "      <td>PT10M</td>\n",
       "      <td>Gougères - I have these little cheese puffs in...</td>\n",
       "    </tr>\n",
       "    <tr>\n",
       "      <th>1039</th>\n",
       "      <td>Parmesan Cheese Spread</td>\n",
       "      <td>2 1/2 cups / 5 1/2 oz / 150g finely grated Par...</td>\n",
       "      <td>http://www.101cookbooks.com/archives/parmesan-...</td>\n",
       "      <td>http://www.101cookbooks.com/mt-static/images/f...</td>\n",
       "      <td></td>\n",
       "      <td>Makes ~1 1/2 cups of spread.</td>\n",
       "      <td>2012-05-09</td>\n",
       "      <td>PT5M</td>\n",
       "      <td>A Parmesan cheese spread made with grated chee...</td>\n",
       "    </tr>\n",
       "    <tr>\n",
       "      <th>1040</th>\n",
       "      <td>Mast-o-Khiar Yogurt Dip</td>\n",
       "      <td>2 medium garlic cloves, peeled\\n1/2 teaspoon f...</td>\n",
       "      <td>http://www.101cookbooks.com/archives/mastokhia...</td>\n",
       "      <td>http://www.101cookbooks.com/mt-static/images/f...</td>\n",
       "      <td></td>\n",
       "      <td>Serves 6-8.</td>\n",
       "      <td>2012-09-08</td>\n",
       "      <td>PT5M</td>\n",
       "      <td>The prettiest dip in my repertoire - my take o...</td>\n",
       "    </tr>\n",
       "    <tr>\n",
       "      <th>1041</th>\n",
       "      <td>Fennel Mushrooms</td>\n",
       "      <td>12 ounces mushrooms, brushed clean\\n1 tablespo...</td>\n",
       "      <td>http://www.101cookbooks.com/archives/fennel-mu...</td>\n",
       "      <td>http://www.101cookbooks.com/mt-static/images/f...</td>\n",
       "      <td>PT7M</td>\n",
       "      <td>Serves 2-3.</td>\n",
       "      <td>2012-10-01</td>\n",
       "      <td>PT5M</td>\n",
       "      <td>A fennel mushroom recipe inspired by one of my...</td>\n",
       "    </tr>\n",
       "  </tbody>\n",
       "</table>\n",
       "<p>1042 rows × 9 columns</p>\n",
       "</div>"
      ],
      "text/plain": [
       "                                             name  \\\n",
       "0                        Easter Leftover Sandwich   \n",
       "1                    Pasta with Pesto Cream Sauce   \n",
       "2     Herb Roasted Pork Tenderloin with Preserves   \n",
       "3                        Chicken Florentine Pasta   \n",
       "4                             Perfect Iced Coffee   \n",
       "...                                           ...   \n",
       "1037                           Golden Potstickers   \n",
       "1038                                     Gougères   \n",
       "1039                       Parmesan Cheese Spread   \n",
       "1040                      Mast-o-Khiar Yogurt Dip   \n",
       "1041                             Fennel Mushrooms   \n",
       "\n",
       "                                            ingredients  \\\n",
       "0     12 whole Hard Boiled Eggs\\n1/2 cup Mayonnaise\\...   \n",
       "1     3/4 cups Fresh Basil Leaves\\n1/2 cup Grated Pa...   \n",
       "2     2 whole Pork Tenderloins\\n Salt And Pepper, to...   \n",
       "3     1 pound Penne\\n4 whole Boneless, Skinless Chic...   \n",
       "4     1 pound Ground Coffee (good, Rich Roast)\\n8 qu...   \n",
       "...                                                 ...   \n",
       "1037  1/2 cup sunflower oil\\n8 green onions / scalli...   \n",
       "1038  2/3 cup / 160 ml beer / ale  OR water\\n1/3 cup...   \n",
       "1039  2 1/2 cups / 5 1/2 oz / 150g finely grated Par...   \n",
       "1040  2 medium garlic cloves, peeled\\n1/2 teaspoon f...   \n",
       "1041  12 ounces mushrooms, brushed clean\\n1 tablespo...   \n",
       "\n",
       "                                                    url  \\\n",
       "0     http://thepioneerwoman.com/cooking/2013/04/eas...   \n",
       "1     http://thepioneerwoman.com/cooking/2011/06/pas...   \n",
       "2     http://thepioneerwoman.com/cooking/2011/09/her...   \n",
       "3     http://thepioneerwoman.com/cooking/2012/04/chi...   \n",
       "4     http://thepioneerwoman.com/cooking/2011/06/per...   \n",
       "...                                                 ...   \n",
       "1037  http://www.101cookbooks.com/archives/golden-po...   \n",
       "1038  http://www.101cookbooks.com/archives/gougares-...   \n",
       "1039  http://www.101cookbooks.com/archives/parmesan-...   \n",
       "1040  http://www.101cookbooks.com/archives/mastokhia...   \n",
       "1041  http://www.101cookbooks.com/archives/fennel-mu...   \n",
       "\n",
       "                                                  image cookTime  \\\n",
       "0     http://static.thepioneerwoman.com/cooking/file...       PT   \n",
       "1     http://static.thepioneerwoman.com/cooking/file...    PT10M   \n",
       "2     http://static.thepioneerwoman.com/cooking/file...    PT15M   \n",
       "3     http://static.thepioneerwoman.com/cooking/file...    PT20M   \n",
       "4     http://static.thepioneerwoman.com/cooking/file...       PT   \n",
       "...                                                 ...      ...   \n",
       "1037  http://www.101cookbooks.com/mt-static/images/f...    PT10M   \n",
       "1038  http://www.101cookbooks.com/mt-static/images/f...    PT30M   \n",
       "1039  http://www.101cookbooks.com/mt-static/images/f...            \n",
       "1040  http://www.101cookbooks.com/mt-static/images/f...            \n",
       "1041  http://www.101cookbooks.com/mt-static/images/f...     PT7M   \n",
       "\n",
       "                            recipeYield datePublished prepTime  \\\n",
       "0                                     8    2013-04-01    PT15M   \n",
       "1                                     8    2011-06-06     PT6M   \n",
       "2                                    12    2011-09-15     PT5M   \n",
       "3                                    10    2012-04-23    PT10M   \n",
       "4                                    24    2011-06-13     PT8H   \n",
       "...                                 ...           ...      ...   \n",
       "1037  Makes a big platter of dumplings.    2011-10-05    PT60M   \n",
       "1038                                       2011-12-17    PT10M   \n",
       "1039       Makes ~1 1/2 cups of spread.    2012-05-09     PT5M   \n",
       "1040                        Serves 6-8.    2012-09-08     PT5M   \n",
       "1041                        Serves 2-3.    2012-10-01     PT5M   \n",
       "\n",
       "                                            description  \n",
       "0     Got leftover Easter eggs?    Got leftover East...  \n",
       "1     I finally have basil in my garden. Basil I can...  \n",
       "2     This was yummy. And easy. And pretty! And it t...  \n",
       "3     I made this for a late lunch Saturday, and it ...  \n",
       "4     Iced coffee is my life. When I wake up, often ...  \n",
       "...                                                 ...  \n",
       "1037  Potstickers - For my flight to London,  I made...  \n",
       "1038  Gougères - I have these little cheese puffs in...  \n",
       "1039  A Parmesan cheese spread made with grated chee...  \n",
       "1040  The prettiest dip in my repertoire - my take o...  \n",
       "1041  A fennel mushroom recipe inspired by one of my...  \n",
       "\n",
       "[1042 rows x 9 columns]"
      ]
     },
     "execution_count": 27,
     "metadata": {},
     "output_type": "execute_result"
    }
   ],
   "source": [
    "Recipe=pd.read_json('openrecipes.txt', lines = True)\n",
    "Recipe"
   ]
  },
  {
   "cell_type": "code",
   "execution_count": 23,
   "id": "23a60a30",
   "metadata": {},
   "outputs": [
    {
     "data": {
      "text/plain": [
       "(1042, 9)"
      ]
     },
     "execution_count": 23,
     "metadata": {},
     "output_type": "execute_result"
    }
   ],
   "source": [
    "Recipe.shape"
   ]
  },
  {
   "cell_type": "code",
   "execution_count": 139,
   "id": "a84e5782",
   "metadata": {},
   "outputs": [
    {
     "name": "stdout",
     "output_type": "stream",
     "text": [
      "<class 'pandas.core.frame.DataFrame'>\n",
      "RangeIndex: 1042 entries, 0 to 1041\n",
      "Data columns (total 9 columns):\n",
      " #   Column         Non-Null Count  Dtype \n",
      "---  ------         --------------  ----- \n",
      " 0   name           1042 non-null   object\n",
      " 1   ingredients    1042 non-null   object\n",
      " 2   url            1042 non-null   object\n",
      " 3   image          1042 non-null   object\n",
      " 4   cookTime       1042 non-null   object\n",
      " 5   recipeYield    1042 non-null   object\n",
      " 6   datePublished  1042 non-null   object\n",
      " 7   prepTime       1042 non-null   object\n",
      " 8   description    1042 non-null   object\n",
      "dtypes: object(9)\n",
      "memory usage: 73.4+ KB\n"
     ]
    }
   ],
   "source": [
    "Recipe.info()"
   ]
  },
  {
   "cell_type": "code",
   "execution_count": 140,
   "id": "12f45c35",
   "metadata": {},
   "outputs": [
    {
     "data": {
      "text/plain": [
       "name                                      Easter Leftover Sandwich\n",
       "ingredients      12 whole Hard Boiled Eggs\\n1/2 cup Mayonnaise\\...\n",
       "url              http://thepioneerwoman.com/cooking/2013/04/eas...\n",
       "image            http://static.thepioneerwoman.com/cooking/file...\n",
       "cookTime                                                        PT\n",
       "recipeYield                                                      8\n",
       "datePublished                                           2013-04-01\n",
       "prepTime                                                     PT15M\n",
       "description      Got leftover Easter eggs?    Got leftover East...\n",
       "Name: 0, dtype: object"
      ]
     },
     "execution_count": 140,
     "metadata": {},
     "output_type": "execute_result"
    }
   ],
   "source": [
    "Recipe.iloc[0]"
   ]
  },
  {
   "cell_type": "code",
   "execution_count": 141,
   "id": "6c2231fb",
   "metadata": {},
   "outputs": [],
   "source": [
    "# print(len(Recipe['ingredients'].max()))"
   ]
  },
  {
   "cell_type": "code",
   "execution_count": 142,
   "id": "6c1a347f",
   "metadata": {},
   "outputs": [
    {
     "data": {
      "text/plain": [
       "count    1042.000000\n",
       "mean      358.643954\n",
       "std       187.330319\n",
       "min        22.000000\n",
       "25%       246.250000\n",
       "50%       338.000000\n",
       "75%       440.000000\n",
       "max      3160.000000\n",
       "Name: ingredients, dtype: float64"
      ]
     },
     "execution_count": 142,
     "metadata": {},
     "output_type": "execute_result"
    }
   ],
   "source": [
    "Recipe.ingredients.str.len().describe()     "
   ]
  },
  {
   "cell_type": "code",
   "execution_count": 143,
   "id": "e0438f64",
   "metadata": {},
   "outputs": [
    {
     "data": {
      "text/plain": [
       "3160"
      ]
     },
     "execution_count": 143,
     "metadata": {},
     "output_type": "execute_result"
    }
   ],
   "source": [
    "Recipe.ingredients.str.len().max()"
   ]
  },
  {
   "cell_type": "code",
   "execution_count": 144,
   "id": "7e573494",
   "metadata": {},
   "outputs": [
    {
     "data": {
      "text/plain": [
       "'A Nice Berry Pie'"
      ]
     },
     "execution_count": 144,
     "metadata": {},
     "output_type": "execute_result"
    }
   ],
   "source": [
    "Recipe.name[np.argmax(Recipe.ingredients.str.len())]"
   ]
  },
  {
   "cell_type": "code",
   "execution_count": 145,
   "id": "8fb521c9",
   "metadata": {},
   "outputs": [
    {
     "data": {
      "text/plain": [
       "11"
      ]
     },
     "execution_count": 145,
     "metadata": {},
     "output_type": "execute_result"
    }
   ],
   "source": [
    "Recipe.description.str.contains('[Bb]reakfast').sum()"
   ]
  },
  {
   "cell_type": "code",
   "execution_count": 146,
   "id": "3cda6ab7",
   "metadata": {},
   "outputs": [
    {
     "data": {
      "text/plain": [
       "24             Sausage-Kale Breakfast Strata\n",
       "38                     Petite Vanilla Scones\n",
       "204                 Breakfast Burritos to Go\n",
       "307              Cinnamon Baked French Toast\n",
       "377                          Creamed Spinach\n",
       "900     Lori's Skillet Smashed Potato Recipe\n",
       "904                 Breakfast Polenta Recipe\n",
       "907    Warm and Nutty Cinnamon Quinoa Recipe\n",
       "909               Wheat Berry Breakfast Bowl\n",
       "915                Toasted Four Grain Cereal\n",
       "918                  Pomegranate Yogurt Bowl\n",
       "Name: name, dtype: object"
      ]
     },
     "execution_count": 146,
     "metadata": {},
     "output_type": "execute_result"
    }
   ],
   "source": [
    "Recipe.name[Recipe.description.str.contains('[Bb]reakfast')]"
   ]
  },
  {
   "cell_type": "code",
   "execution_count": 147,
   "id": "5b496d89",
   "metadata": {},
   "outputs": [
    {
     "data": {
      "text/plain": [
       "78"
      ]
     },
     "execution_count": 147,
     "metadata": {},
     "output_type": "execute_result"
    }
   ],
   "source": [
    "Recipe.ingredients.str.contains('[CIci]nnamon').sum()"
   ]
  },
  {
   "cell_type": "code",
   "execution_count": 148,
   "id": "6788ad34",
   "metadata": {},
   "outputs": [
    {
     "data": {
      "text/plain": [
       "11                           Baked French Toast\n",
       "39              Individual Cherry Almond Crisps\n",
       "43                         Oatmeal Whoopie Pies\n",
       "54             Grillin’ Recipe Contest Winners!\n",
       "69                         I Love Ya, Tomorrow!\n",
       "                         ...                   \n",
       "982                          Carrot Cake Recipe\n",
       "984     Breton Buckwheat Cake with Fleur de Sel\n",
       "997             Black Sticky Gingerbread Recipe\n",
       "1008                   Buttermilk Berry Muffins\n",
       "1014              Spiced Candied Walnuts Recipe\n",
       "Name: name, Length: 78, dtype: object"
      ]
     },
     "execution_count": 148,
     "metadata": {},
     "output_type": "execute_result"
    }
   ],
   "source": [
    "Recipe.name[Recipe.ingredients.str.contains('[CIci]nnamon')]"
   ]
  },
  {
   "cell_type": "code",
   "execution_count": 149,
   "id": "fb8cdf72",
   "metadata": {},
   "outputs": [
    {
     "data": {
      "text/plain": [
       "2"
      ]
     },
     "execution_count": 149,
     "metadata": {},
     "output_type": "execute_result"
    }
   ],
   "source": [
    "Recipe.ingredients.str.contains('[Cc]inamon').sum()"
   ]
  },
  {
   "cell_type": "code",
   "execution_count": null,
   "id": "c002f58c",
   "metadata": {},
   "outputs": [],
   "source": [
    "##change the spelling by own"
   ]
  },
  {
   "cell_type": "code",
   "execution_count": 166,
   "id": "251405ab",
   "metadata": {},
   "outputs": [
    {
     "data": {
      "text/plain": [
       "377"
      ]
     },
     "execution_count": 166,
     "metadata": {},
     "output_type": "execute_result"
    }
   ],
   "source": [
    "Recipe.ingredients.str.contains('Wine' and '[Ss]ugar').sum()"
   ]
  },
  {
   "cell_type": "code",
   "execution_count": 169,
   "id": "3e9fc7f3",
   "metadata": {},
   "outputs": [
    {
     "data": {
      "text/plain": [
       "4                   Perfect Iced Coffee\n",
       "8                       Yum. Doughnuts!\n",
       "11                   Baked French Toast\n",
       "12         Yummy Slice-and-Bake Cookies\n",
       "16                    Mango Margaritas!\n",
       "                     ...               \n",
       "1014      Spiced Candied Walnuts Recipe\n",
       "1017              Animal Cracker Recipe\n",
       "1020    Sweet &amp; Spicy Pumpkin Seeds\n",
       "1035                   Oatmeal Crackers\n",
       "1037                 Golden Potstickers\n",
       "Name: name, Length: 377, dtype: object"
      ]
     },
     "execution_count": 169,
     "metadata": {},
     "output_type": "execute_result"
    }
   ],
   "source": [
    "Recipe.name[Recipe.ingredients.str.contains('Wine' and '[Ss]ugar')]"
   ]
  },
  {
   "cell_type": "code",
   "execution_count": 171,
   "id": "634abb5f",
   "metadata": {},
   "outputs": [],
   "source": [
    "spice_list = ['salt', 'pepper', 'oregano', 'sage', 'parsley','rosemary', 'tarragon', 'thyme', 'paprika', 'cumin']"
   ]
  },
  {
   "cell_type": "code",
   "execution_count": 173,
   "id": "694a053e",
   "metadata": {},
   "outputs": [
    {
     "data": {
      "text/html": [
       "<div>\n",
       "<style scoped>\n",
       "    .dataframe tbody tr th:only-of-type {\n",
       "        vertical-align: middle;\n",
       "    }\n",
       "\n",
       "    .dataframe tbody tr th {\n",
       "        vertical-align: top;\n",
       "    }\n",
       "\n",
       "    .dataframe thead th {\n",
       "        text-align: right;\n",
       "    }\n",
       "</style>\n",
       "<table border=\"1\" class=\"dataframe\">\n",
       "  <thead>\n",
       "    <tr style=\"text-align: right;\">\n",
       "      <th></th>\n",
       "      <th>salt</th>\n",
       "      <th>pepper</th>\n",
       "      <th>oregano</th>\n",
       "      <th>sage</th>\n",
       "      <th>parsley</th>\n",
       "      <th>rosemary</th>\n",
       "      <th>tarragon</th>\n",
       "      <th>thyme</th>\n",
       "      <th>paprika</th>\n",
       "      <th>cumin</th>\n",
       "    </tr>\n",
       "  </thead>\n",
       "  <tbody>\n",
       "    <tr>\n",
       "      <th>0</th>\n",
       "      <td>False</td>\n",
       "      <td>False</td>\n",
       "      <td>False</td>\n",
       "      <td>False</td>\n",
       "      <td>False</td>\n",
       "      <td>False</td>\n",
       "      <td>False</td>\n",
       "      <td>False</td>\n",
       "      <td>False</td>\n",
       "      <td>False</td>\n",
       "    </tr>\n",
       "    <tr>\n",
       "      <th>1</th>\n",
       "      <td>False</td>\n",
       "      <td>False</td>\n",
       "      <td>False</td>\n",
       "      <td>False</td>\n",
       "      <td>False</td>\n",
       "      <td>False</td>\n",
       "      <td>False</td>\n",
       "      <td>False</td>\n",
       "      <td>False</td>\n",
       "      <td>False</td>\n",
       "    </tr>\n",
       "    <tr>\n",
       "      <th>2</th>\n",
       "      <td>False</td>\n",
       "      <td>False</td>\n",
       "      <td>False</td>\n",
       "      <td>False</td>\n",
       "      <td>False</td>\n",
       "      <td>False</td>\n",
       "      <td>False</td>\n",
       "      <td>False</td>\n",
       "      <td>False</td>\n",
       "      <td>False</td>\n",
       "    </tr>\n",
       "    <tr>\n",
       "      <th>3</th>\n",
       "      <td>False</td>\n",
       "      <td>False</td>\n",
       "      <td>False</td>\n",
       "      <td>False</td>\n",
       "      <td>False</td>\n",
       "      <td>False</td>\n",
       "      <td>False</td>\n",
       "      <td>False</td>\n",
       "      <td>False</td>\n",
       "      <td>False</td>\n",
       "    </tr>\n",
       "    <tr>\n",
       "      <th>4</th>\n",
       "      <td>False</td>\n",
       "      <td>False</td>\n",
       "      <td>False</td>\n",
       "      <td>False</td>\n",
       "      <td>False</td>\n",
       "      <td>False</td>\n",
       "      <td>False</td>\n",
       "      <td>False</td>\n",
       "      <td>False</td>\n",
       "      <td>False</td>\n",
       "    </tr>\n",
       "  </tbody>\n",
       "</table>\n",
       "</div>"
      ],
      "text/plain": [
       "    salt  pepper  oregano   sage  parsley  rosemary  tarragon  thyme  paprika  \\\n",
       "0  False   False    False  False    False     False     False  False    False   \n",
       "1  False   False    False  False    False     False     False  False    False   \n",
       "2  False   False    False  False    False     False     False  False    False   \n",
       "3  False   False    False  False    False     False     False  False    False   \n",
       "4  False   False    False  False    False     False     False  False    False   \n",
       "\n",
       "   cumin  \n",
       "0  False  \n",
       "1  False  \n",
       "2  False  \n",
       "3  False  \n",
       "4  False  "
      ]
     },
     "execution_count": 173,
     "metadata": {},
     "output_type": "execute_result"
    }
   ],
   "source": [
    "import re\n",
    "spice_df = pd.DataFrame(dict((spice, Recipe.ingredients.str.contains(spice, re.IGNORECASE))\n",
    "                             for spice in spice_list))\n",
    "spice_df.head()"
   ]
  },
  {
   "cell_type": "code",
   "execution_count": 191,
   "id": "66b73d18",
   "metadata": {},
   "outputs": [
    {
     "data": {
      "text/plain": [
       "2"
      ]
     },
     "execution_count": 191,
     "metadata": {},
     "output_type": "execute_result"
    }
   ],
   "source": [
    "so1 = spice_df.query('parsley & paprika')\n",
    "len(so1)"
   ]
  },
  {
   "cell_type": "code",
   "execution_count": 195,
   "id": "9af9f772",
   "metadata": {},
   "outputs": [
    {
     "data": {
      "text/plain": [
       "637            Pappardelle with Spiced Butter\n",
       "1010    Herb Jam with Olives and Lemon Recipe\n",
       "Name: name, dtype: object"
      ]
     },
     "execution_count": 195,
     "metadata": {},
     "output_type": "execute_result"
    }
   ],
   "source": [
    "Recipe.name[so1.index]"
   ]
  },
  {
   "cell_type": "code",
   "execution_count": 184,
   "id": "504d66a0",
   "metadata": {},
   "outputs": [
    {
     "data": {
      "text/plain": [
       "salt         True\n",
       "pepper       True\n",
       "oregano     False\n",
       "sage        False\n",
       "parsley      True\n",
       "rosemary    False\n",
       "tarragon    False\n",
       "thyme       False\n",
       "paprika      True\n",
       "cumin        True\n",
       "dtype: bool"
      ]
     },
     "execution_count": 184,
     "metadata": {},
     "output_type": "execute_result"
    }
   ],
   "source": [
    "spice_df.query('parsley & paprika').max()\n"
   ]
  },
  {
   "cell_type": "code",
   "execution_count": 177,
   "id": "39fe4226",
   "metadata": {},
   "outputs": [],
   "source": [
    "sweets_list=['Wine','Sugar']"
   ]
  },
  {
   "cell_type": "code",
   "execution_count": 188,
   "id": "fefd457c",
   "metadata": {},
   "outputs": [
    {
     "data": {
      "text/html": [
       "<div>\n",
       "<style scoped>\n",
       "    .dataframe tbody tr th:only-of-type {\n",
       "        vertical-align: middle;\n",
       "    }\n",
       "\n",
       "    .dataframe tbody tr th {\n",
       "        vertical-align: top;\n",
       "    }\n",
       "\n",
       "    .dataframe thead th {\n",
       "        text-align: right;\n",
       "    }\n",
       "</style>\n",
       "<table border=\"1\" class=\"dataframe\">\n",
       "  <thead>\n",
       "    <tr style=\"text-align: right;\">\n",
       "      <th></th>\n",
       "      <th>Wine</th>\n",
       "      <th>Sugar</th>\n",
       "    </tr>\n",
       "  </thead>\n",
       "  <tbody>\n",
       "    <tr>\n",
       "      <th>0</th>\n",
       "      <td>False</td>\n",
       "      <td>False</td>\n",
       "    </tr>\n",
       "    <tr>\n",
       "      <th>1</th>\n",
       "      <td>False</td>\n",
       "      <td>False</td>\n",
       "    </tr>\n",
       "    <tr>\n",
       "      <th>2</th>\n",
       "      <td>False</td>\n",
       "      <td>False</td>\n",
       "    </tr>\n",
       "    <tr>\n",
       "      <th>3</th>\n",
       "      <td>True</td>\n",
       "      <td>False</td>\n",
       "    </tr>\n",
       "    <tr>\n",
       "      <th>4</th>\n",
       "      <td>False</td>\n",
       "      <td>True</td>\n",
       "    </tr>\n",
       "  </tbody>\n",
       "</table>\n",
       "</div>"
      ],
      "text/plain": [
       "    Wine  Sugar\n",
       "0  False  False\n",
       "1  False  False\n",
       "2  False  False\n",
       "3   True  False\n",
       "4  False   True"
      ]
     },
     "execution_count": 188,
     "metadata": {},
     "output_type": "execute_result"
    }
   ],
   "source": [
    "import re\n",
    "sweets_df = pd.DataFrame(dict((words, Recipe.ingredients.str.contains(words, re.IGNORECASE))\n",
    "                             for words in sweets_list))\n",
    "sweets_df.head()"
   ]
  },
  {
   "cell_type": "code",
   "execution_count": 192,
   "id": "dd8ac0f0",
   "metadata": {},
   "outputs": [
    {
     "data": {
      "text/plain": [
       "21"
      ]
     },
     "execution_count": 192,
     "metadata": {},
     "output_type": "execute_result"
    }
   ],
   "source": [
    "so2 = sweets_df.query('Wine & Sugar')\n",
    "len(so2)"
   ]
  },
  {
   "cell_type": "code",
   "execution_count": 193,
   "id": "bcaaf186",
   "metadata": {},
   "outputs": [
    {
     "data": {
      "text/plain": [
       "48     Maple Glazed Chicken Kabobs with Sweet Jalapen...\n",
       "60                          The Best Macaroni Salad Ever\n",
       "71                                       Spaghetti Sauce\n",
       "139                              Beef Noodle Salad Bowls\n",
       "148                 Meatballs with Peppers and Pineapple\n",
       "167                           Short Ribs in Tomato Sauce\n",
       "179                                          Greek Salad\n",
       "214                                 Black Eyed Pea Salsa\n",
       "238           Cornbread Dressing with Sausage and Apples\n",
       "239    Three Cheese-Stuffed Shells with Meaty Tomato ...\n",
       "245                                      Big Steak Salad\n",
       "286                            Spaghetti &amp; Meatballs\n",
       "324                                   Chicken Parmigiana\n",
       "423                        Sushi 101: Perfect Sushi Rice\n",
       "446                    What I Made for Lunch on Saturday\n",
       "451                         Linguine with Chicken Thighs\n",
       "458                                     My Spinach Salad\n",
       "459                                             Gazpacho\n",
       "490                                  Spicy Shredded Pork\n",
       "506                                   Thai Chicken Wraps\n",
       "520                                             Tiramisu\n",
       "Name: name, dtype: object"
      ]
     },
     "execution_count": 193,
     "metadata": {},
     "output_type": "execute_result"
    }
   ],
   "source": [
    "Recipe.name[so2.index]"
   ]
  },
  {
   "cell_type": "code",
   "execution_count": 194,
   "id": "7b30b0eb",
   "metadata": {},
   "outputs": [
    {
     "data": {
      "text/plain": [
       "3"
      ]
     },
     "execution_count": 194,
     "metadata": {},
     "output_type": "execute_result"
    }
   ],
   "source": [
    "so3 = spice_df.query('parsley & oregano')\n",
    "len(so3)"
   ]
  },
  {
   "cell_type": "code",
   "execution_count": 196,
   "id": "06347b5c",
   "metadata": {},
   "outputs": [
    {
     "data": {
      "text/plain": [
       "631    Summer Squash Gratin Recipe\n",
       "797       Oregano Brussels Sprouts\n",
       "913      Super-eggy Scrambled Eggs\n",
       "Name: name, dtype: object"
      ]
     },
     "execution_count": 196,
     "metadata": {},
     "output_type": "execute_result"
    }
   ],
   "source": [
    "Recipe.name[so3.index]"
   ]
  },
  {
   "cell_type": "code",
   "execution_count": null,
   "id": "d09225b9",
   "metadata": {},
   "outputs": [],
   "source": []
  }
 ],
 "metadata": {
  "kernelspec": {
   "display_name": "Python 3 (ipykernel)",
   "language": "python",
   "name": "python3"
  },
  "language_info": {
   "codemirror_mode": {
    "name": "ipython",
    "version": 3
   },
   "file_extension": ".py",
   "mimetype": "text/x-python",
   "name": "python",
   "nbconvert_exporter": "python",
   "pygments_lexer": "ipython3",
   "version": "3.9.12"
  }
 },
 "nbformat": 4,
 "nbformat_minor": 5
}
