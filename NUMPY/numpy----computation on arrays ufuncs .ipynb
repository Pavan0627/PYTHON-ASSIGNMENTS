{
 "cells": [
  {
   "cell_type": "markdown",
   "id": "36e9edc8",
   "metadata": {},
   "source": [
    "# univeral function"
   ]
  },
  {
   "cell_type": "code",
   "execution_count": 2,
   "id": "69e67cfc",
   "metadata": {},
   "outputs": [],
   "source": [
    "import numpy as np"
   ]
  },
  {
   "cell_type": "code",
   "execution_count": 8,
   "id": "6d55980d",
   "metadata": {},
   "outputs": [
    {
     "name": "stdout",
     "output_type": "stream",
     "text": [
      "[[0 1 2]\n",
      " [3 4 5]\n",
      " [6 7 8]]\n"
     ]
    },
    {
     "data": {
      "text/plain": [
       "array([[  1,   2,   4],\n",
       "       [  8,  16,  32],\n",
       "       [ 64, 128, 256]], dtype=int32)"
      ]
     },
     "execution_count": 8,
     "metadata": {},
     "output_type": "execute_result"
    }
   ],
   "source": [
    "n=np.arange(9).reshape((3,3))\n",
    "print(n)\n",
    "2**n"
   ]
  },
  {
   "cell_type": "code",
   "execution_count": null,
   "id": "744ab306",
   "metadata": {},
   "outputs": [],
   "source": [
    "#unary function and binary function\n"
   ]
  },
  {
   "cell_type": "code",
   "execution_count": 9,
   "id": "357469bf",
   "metadata": {},
   "outputs": [
    {
     "data": {
      "text/plain": [
       "array([[ 2,  3,  4],\n",
       "       [ 5,  6,  7],\n",
       "       [ 8,  9, 10]])"
      ]
     },
     "execution_count": 9,
     "metadata": {},
     "output_type": "execute_result"
    }
   ],
   "source": [
    "np.add(n,2)"
   ]
  },
  {
   "cell_type": "code",
   "execution_count": 10,
   "id": "f35dc455",
   "metadata": {},
   "outputs": [
    {
     "data": {
      "text/plain": [
       "array([[0, 0, 1],\n",
       "       [1, 2, 2],\n",
       "       [3, 3, 4]], dtype=int32)"
      ]
     },
     "execution_count": 10,
     "metadata": {},
     "output_type": "execute_result"
    }
   ],
   "source": [
    "np.floor_divide(n,2)"
   ]
  },
  {
   "cell_type": "code",
   "execution_count": 11,
   "id": "dad22a23",
   "metadata": {},
   "outputs": [
    {
     "data": {
      "text/plain": [
       "array([[ 0,  1,  4],\n",
       "       [ 9, 16, 25],\n",
       "       [36, 49, 64]], dtype=int32)"
      ]
     },
     "execution_count": 11,
     "metadata": {},
     "output_type": "execute_result"
    }
   ],
   "source": [
    "np.power(n,2)"
   ]
  },
  {
   "cell_type": "code",
   "execution_count": 12,
   "id": "c755b5b4",
   "metadata": {},
   "outputs": [
    {
     "data": {
      "text/plain": [
       "array([[0, 1, 0],\n",
       "       [1, 0, 1],\n",
       "       [0, 1, 0]], dtype=int32)"
      ]
     },
     "execution_count": 12,
     "metadata": {},
     "output_type": "execute_result"
    }
   ],
   "source": [
    "np.mod(n,2)"
   ]
  },
  {
   "cell_type": "code",
   "execution_count": 13,
   "id": "a51ba9db",
   "metadata": {},
   "outputs": [
    {
     "data": {
      "text/plain": [
       "array([2, 1, 0, 1, 2])"
      ]
     },
     "execution_count": 13,
     "metadata": {},
     "output_type": "execute_result"
    }
   ],
   "source": [
    "x=np.array([-2,-1,0,1,2]) #absolute value \n",
    "\n",
    "abs(x)"
   ]
  },
  {
   "cell_type": "code",
   "execution_count": 14,
   "id": "87e2796f",
   "metadata": {},
   "outputs": [
    {
     "data": {
      "text/plain": [
       "array([2, 1, 0, 1, 2])"
      ]
     },
     "execution_count": 14,
     "metadata": {},
     "output_type": "execute_result"
    }
   ],
   "source": [
    "np.absolute(x)"
   ]
  },
  {
   "cell_type": "code",
   "execution_count": 16,
   "id": "9b4f6d05",
   "metadata": {},
   "outputs": [
    {
     "data": {
      "text/plain": [
       "array([0.        , 1.57079633, 3.14159265])"
      ]
     },
     "execution_count": 16,
     "metadata": {},
     "output_type": "execute_result"
    }
   ],
   "source": [
    "#np.linspace return evenly spaced numbers over a specified interval\n",
    "theta=np.linspace(0,np.pi,3)\n",
    "theta"
   ]
  },
  {
   "cell_type": "code",
   "execution_count": 20,
   "id": "0f0a341e",
   "metadata": {},
   "outputs": [
    {
     "name": "stdout",
     "output_type": "stream",
     "text": [
      "theta = [0.         1.57079633 3.14159265]\n",
      "sin(theta) = [0.0000000e+00 1.0000000e+00 1.2246468e-16]\n",
      "cos(theta) = [ 1.000000e+00  6.123234e-17 -1.000000e+00]\n",
      "tan(theta) = [ 0.00000000e+00  1.63312394e+16 -1.22464680e-16]\n"
     ]
    }
   ],
   "source": [
    "print(\"theta =\",theta)\n",
    "print(\"sin(theta) =\",np.sin(theta))\n",
    "print(\"cos(theta) =\",np.cos(theta))\n",
    "print(\"tan(theta) =\",np.tan(theta))"
   ]
  },
  {
   "cell_type": "code",
   "execution_count": 24,
   "id": "9a2a4662",
   "metadata": {},
   "outputs": [
    {
     "name": "stdout",
     "output_type": "stream",
     "text": [
      "x = [-1, 0, 1]\n",
      "arcsin(x)=  [-1.57079633  0.          1.57079633]\n",
      "arccos(x)=  [3.14159265 1.57079633 0.        ]\n",
      "arctan(x)=  [-0.78539816  0.          0.78539816]\n"
     ]
    }
   ],
   "source": [
    "x=[-1,0,1]\n",
    "print(\"x =\",x)\n",
    "print(\"arcsin(x)= \",np.arcsin(x))\n",
    "print(\"arccos(x)= \",np.arccos(x))\n",
    "print(\"arctan(x)= \",np.arctan(x))"
   ]
  },
  {
   "cell_type": "code",
   "execution_count": 28,
   "id": "60519de2",
   "metadata": {},
   "outputs": [
    {
     "name": "stdout",
     "output_type": "stream",
     "text": [
      "x = [1, 2, 3]\n",
      "e^x = [ 2.71828183  7.3890561  20.08553692]\n",
      "2^x = [2. 4. 8.]\n",
      "3^x = [ 3  9 27]\n"
     ]
    }
   ],
   "source": [
    "x=[1,2,3]\n",
    "print(\"x =\",x)\n",
    "print(\"e^x =\",np.exp(x))\n",
    "print(\"2^x =\",np.exp2(x))\n",
    "print(\"3^x =\",np.power(3,x))"
   ]
  },
  {
   "cell_type": "code",
   "execution_count": 29,
   "id": "995ba950",
   "metadata": {},
   "outputs": [
    {
     "name": "stdout",
     "output_type": "stream",
     "text": [
      "x = [1, 2, 4, 10]\n",
      "ln(x) = [0.         0.69314718 1.38629436 2.30258509]\n",
      "log2(x) = [0.         1.         2.         3.32192809]\n",
      "log10(x)= [0.         0.30103    0.60205999 1.        ]\n"
     ]
    }
   ],
   "source": [
    "x=[1,2,4,10]\n",
    "print(\"x =\",x)\n",
    "print(\"ln(x) =\",np.log(x))\n",
    "print(\"log2(x) =\",np.log2(x))\n",
    "print(\"log10(x)=\",np.log10(x))"
   ]
  },
  {
   "cell_type": "code",
   "execution_count": 34,
   "id": "b1c96df2",
   "metadata": {},
   "outputs": [
    {
     "name": "stdout",
     "output_type": "stream",
     "text": [
      "exp(x)-1= [0.         0.0010005  0.01005017 0.10517092]\n",
      "log(1+x)= [0.         0.0009995  0.00995033 0.09531018]\n"
     ]
    }
   ],
   "source": [
    "x=[0,0.001,0.01,0.1]\n",
    "print(\"exp(x)-1=\",np.expm1(x))\n",
    "print(\"log(1+x)=\",np.log1p(x))\n"
   ]
  },
  {
   "cell_type": "code",
   "execution_count": 36,
   "id": "d0b1d030",
   "metadata": {},
   "outputs": [
    {
     "name": "stdout",
     "output_type": "stream",
     "text": [
      "[1 2 3 4 5]\n",
      "15\n",
      "120\n"
     ]
    }
   ],
   "source": [
    "x=np.arange(1,6)\n",
    "print(x)\n",
    "print(np.add.reduce(x))\n",
    "print(np.multiply.reduce(x))"
   ]
  },
  {
   "cell_type": "code",
   "execution_count": 37,
   "id": "cd566a85",
   "metadata": {},
   "outputs": [
    {
     "data": {
      "text/plain": [
       "array([ 1,  3,  6, 10, 15], dtype=int32)"
      ]
     },
     "execution_count": 37,
     "metadata": {},
     "output_type": "execute_result"
    }
   ],
   "source": [
    "#to store allthe intermidiate results of the computation \n",
    "np.add.accumulate(x)"
   ]
  },
  {
   "cell_type": "markdown",
   "id": "87261af4",
   "metadata": {},
   "source": [
    "# aggregate function"
   ]
  },
  {
   "cell_type": "code",
   "execution_count": 53,
   "id": "839e9d7c",
   "metadata": {},
   "outputs": [
    {
     "name": "stdout",
     "output_type": "stream",
     "text": [
      "[7.55247840e-01 7.96539634e-04 4.79520185e-01 9.22285627e-02\n",
      " 7.08858290e-01 2.90426224e-01 3.52827962e-01 9.39593381e-02\n",
      " 4.10355270e-01 5.91576431e-01 8.03935639e-01 7.95146085e-01\n",
      " 6.38527835e-01 6.62179936e-01 2.01764666e-01 7.39639316e-02\n",
      " 7.74520640e-01 5.16342158e-01 5.45971890e-01 6.09157377e-01\n",
      " 8.10744135e-01 6.02435244e-02 3.57840112e-01 6.65603224e-01\n",
      " 6.32361645e-02 1.68756507e-01 8.09142106e-01 7.12056512e-01\n",
      " 5.49943734e-01 2.10562726e-01 7.55587142e-01 5.84914079e-01\n",
      " 5.11456490e-01 9.12082317e-01 3.01342266e-01 4.52675849e-01\n",
      " 1.12807983e-02 6.60402547e-01 5.84688013e-01 6.50670535e-01\n",
      " 5.73628759e-01 4.41357964e-01 8.13700801e-01 4.43423958e-01\n",
      " 8.84214398e-01 3.19438285e-01 5.69706422e-02 6.49310395e-01\n",
      " 6.56739607e-01 8.60239597e-01 7.74166141e-01 7.23257673e-01\n",
      " 3.97835630e-01 9.51828549e-01 4.11068285e-01 8.69322252e-01\n",
      " 5.57788229e-01 8.95442799e-01 5.39751454e-01 8.48926974e-01\n",
      " 3.43075950e-01 6.14601370e-01 3.65824141e-01 6.72617014e-01\n",
      " 4.13434342e-01 7.70913174e-01 5.02664695e-02 6.64306927e-01\n",
      " 3.07855599e-01 7.34164683e-02 6.08146499e-01 6.28558033e-01\n",
      " 2.51600242e-01 5.75415362e-01 6.79253734e-01 1.32582377e-01\n",
      " 9.44904088e-01 8.23255699e-01 5.27848557e-01 1.77139298e-01\n",
      " 6.15309973e-01 2.69379853e-01 4.76663326e-01 8.72730730e-01\n",
      " 5.11610742e-01 5.77507144e-01 6.10559192e-01 8.37886564e-01\n",
      " 7.68437065e-01 6.71670132e-01 9.86132047e-01 9.81263214e-01\n",
      " 9.69614439e-01 4.59746926e-02 9.38820780e-01 1.76709475e-01\n",
      " 5.42588646e-01 4.29769236e-01 5.25823968e-01 5.58493174e-01]\n"
     ]
    },
    {
     "data": {
      "text/plain": [
       "53.89090771263698"
      ]
     },
     "execution_count": 53,
     "metadata": {},
     "output_type": "execute_result"
    }
   ],
   "source": [
    "l=np.random.random(100)\n",
    "print(l)\n",
    "sum(l)"
   ]
  },
  {
   "cell_type": "code",
   "execution_count": 54,
   "id": "7af83a9b",
   "metadata": {},
   "outputs": [
    {
     "name": "stdout",
     "output_type": "stream",
     "text": [
      "121 ms ± 17.9 ms per loop (mean ± std. dev. of 7 runs, 10 loops each)\n",
      "672 µs ± 74.6 µs per loop (mean ± std. dev. of 7 runs, 1,000 loops each)\n"
     ]
    }
   ],
   "source": [
    "#numpy\n",
    "big_array=np.random.rand(1000000)\n",
    "%timeit sum(big_array)\n",
    "%timeit np.sum(big_array)"
   ]
  },
  {
   "cell_type": "code",
   "execution_count": 56,
   "id": "f8e7fd89",
   "metadata": {},
   "outputs": [
    {
     "data": {
      "text/plain": [
       "1.7880305438477961e-06"
      ]
     },
     "execution_count": 56,
     "metadata": {},
     "output_type": "execute_result"
    }
   ],
   "source": [
    "np.min(big_array)#np.max(big_array)"
   ]
  },
  {
   "cell_type": "code",
   "execution_count": 62,
   "id": "1df3b29d",
   "metadata": {},
   "outputs": [
    {
     "name": "stdout",
     "output_type": "stream",
     "text": [
      "[[0.58892228 0.03831411 0.01153434 0.74135754]\n",
      " [0.73253068 0.02243798 0.87050983 0.04337445]\n",
      " [0.59404039 0.04561541 0.33888847 0.91967234]]\n",
      "[0.58892228 0.02243798 0.01153434 0.04337445]\n",
      "[0.73253068 0.04561541 0.87050983 0.91967234]\n"
     ]
    }
   ],
   "source": [
    "#multi dimensional aggregates\n",
    "#axis=0 by column ,axis=1 means by row\n",
    "m=np.random.random((3,4))\n",
    "print(m)\n",
    "print(m.min(axis=0))\n",
    "print(m.max(axis=0))"
   ]
  },
  {
   "cell_type": "code",
   "execution_count": null,
   "id": "30ef4527",
   "metadata": {},
   "outputs": [],
   "source": []
  },
  {
   "cell_type": "code",
   "execution_count": null,
   "id": "218ef3a1",
   "metadata": {},
   "outputs": [],
   "source": []
  }
 ],
 "metadata": {
  "kernelspec": {
   "display_name": "Python 3 (ipykernel)",
   "language": "python",
   "name": "python3"
  },
  "language_info": {
   "codemirror_mode": {
    "name": "ipython",
    "version": 3
   },
   "file_extension": ".py",
   "mimetype": "text/x-python",
   "name": "python",
   "nbconvert_exporter": "python",
   "pygments_lexer": "ipython3",
   "version": "3.9.12"
  }
 },
 "nbformat": 4,
 "nbformat_minor": 5
}
