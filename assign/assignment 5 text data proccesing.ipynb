{
 "cells": [
  {
   "cell_type": "code",
   "execution_count": 1,
   "id": "dcb133dd",
   "metadata": {},
   "outputs": [],
   "source": [
    "# load pandas\n",
    "import pandas as pd\n",
    "import seaborn as sns\n",
    "import numpy as np\n",
    "import json\n",
    "import re"
   ]
  },
  {
   "cell_type": "code",
   "execution_count": 2,
   "id": "40e20147",
   "metadata": {},
   "outputs": [],
   "source": [
    "txt='''From: keith@cco.caltech.edu (Keith Allan Schneider) \n",
    "Subject: Re: <<Pompous ass\\nOrganization: California Institute of Technology, Pasadena\\nLines: 16\\nNNTP-Posting-Host: punisher.caltech.edu\\nlivesey@solntze.wpd.sgi.com (Jon Livesey) writes:\\n[...]\\n>>The \"`little' things\" above were in reference to\\nGermany, clearly. People\\n>>said that there were similar things\\nin Germany, but no one could name any.\\n>That's not true. I\\ngave you two examples. One was the rather\\n>pevasive anti\\nsemitism in German Christianity well before Hitler\\n>arrived. \\nThe other was the system of social ranks that were used\\n>in\\nImperail Germany and Austria to distinguish Jews from the\\nrest \\n>of the population.\\nThese don't seem like \"little\\nthings\" to me. At least, they are orders\\nworse than the\\nmotto. Do you think that the motto is a \"little thing\"\\nthat\\nwill lead to worse things?\\nkeith '''"
   ]
  },
  {
   "cell_type": "code",
   "execution_count": 3,
   "id": "ea2655e0",
   "metadata": {},
   "outputs": [
    {
     "data": {
      "text/plain": [
       "'From: keith@cco.caltech.edu (Keith Allan Schneider) \\nSubject: Re: <<Pompous ass\\nOrganization: California Institute of Technology, Pasadena\\nLines: 16\\nNNTP-Posting-Host: punisher.caltech.edu\\nlivesey@solntze.wpd.sgi.com (Jon Livesey) writes:\\n[...]\\n>>The \"`little\\' things\" above were in reference to\\nGermany, clearly. People\\n>>said that there were similar things\\nin Germany, but no one could name any.\\n>That\\'s not true. I\\ngave you two examples. One was the rather\\n>pevasive anti\\nsemitism in German Christianity well before Hitler\\n>arrived. \\nThe other was the system of social ranks that were used\\n>in\\nImperail Germany and Austria to distinguish Jews from the\\nrest \\n>of the population.\\nThese don\\'t seem like \"little\\nthings\" to me. At least, they are orders\\nworse than the\\nmotto. Do you think that the motto is a \"little thing\"\\nthat\\nwill lead to worse things?\\nkeith '"
      ]
     },
     "execution_count": 3,
     "metadata": {},
     "output_type": "execute_result"
    }
   ],
   "source": [
    "txt"
   ]
  },
  {
   "cell_type": "code",
   "execution_count": 17,
   "id": "bc656e73",
   "metadata": {},
   "outputs": [
    {
     "data": {
      "text/plain": [
       "'From  keith@cco.caltech.edu (Keith Allan Schneider) \\nSubject  Re  <<Pompous ass\\nOrganization  California Institute of Technology  Pasadena\\nLines  16\\nNNTP-Posting-Host  punisher.caltech.edu\\nlivesey@solntze.wpd.sgi.com (Jon Livesey) writes \\n[...]\\n  The \"`little\\' things\" above were in reference to\\nGermany  clearly. People\\n  said that there were similar things\\nin Germany  but no one could name any.\\n That\\'s not true. I\\ngave you two examples. One was the rather\\n pevasive anti\\nsemitism in German Christianity well before Hitler\\n arrived. \\nThe other was the system of social ranks that were used\\n in\\nImperail Germany and Austria to distinguish Jews from the\\nrest \\n of the population.\\nThese don\\'t seem like \"little\\nthings\" to me. At least  they are orders\\nworse than the\\nmotto. Do you think that the motto is a \"little thing\"\\nthat\\nwill lead to worse things \\nkeith'"
      ]
     },
     "execution_count": 17,
     "metadata": {},
     "output_type": "execute_result"
    }
   ],
   "source": [
    "text_string =txt.replace(\"/\", ' ').replace(\">\", ' ').replace(',', ' ').replace('?', ' ').replace('!', ' ').replace(':', ' ').strip()\n",
    "text_string"
   ]
  },
  {
   "cell_type": "code",
   "execution_count": 23,
   "id": "2c0abef2",
   "metadata": {},
   "outputs": [
    {
     "data": {
      "text/plain": [
       "[' keith@cco.caltech.edu']"
      ]
     },
     "execution_count": 23,
     "metadata": {},
     "output_type": "execute_result"
    }
   ],
   "source": [
    "findEmail = re.findall(r' [\\w\\.-]+@[\\w\\.-]+', txt)\n",
    "findEmail"
   ]
  },
  {
   "cell_type": "code",
   "execution_count": 20,
   "id": "5392d139",
   "metadata": {},
   "outputs": [
    {
     "name": "stdout",
     "output_type": "stream",
     "text": [
      "['From', 'keith@cco.caltech.edu', '(Keith', 'Allan', 'Schneider)', 'Subject', 'Re', '<<Pompous', 'ass', 'Organization', 'California', 'Institute', 'of', 'Technology', 'Pasadena', 'Lines', '16', 'NNTP-Posting-Host', 'punisher.caltech.edu', 'livesey@solntze.wpd.sgi.com', '(Jon', 'Livesey)', 'writes', '[...]', 'The', '\"`little\\'', 'things\"', 'above', 'were', 'in', 'reference', 'to', 'Germany', 'clearly.', 'People', 'said', 'that', 'there', 'were', 'similar', 'things', 'in', 'Germany', 'but', 'no', 'one', 'could', 'name', 'any.', \"That's\", 'not', 'true.', 'I', 'gave', 'you', 'two', 'examples.', 'One', 'was', 'the', 'rather', 'pevasive', 'anti', 'semitism', 'in', 'German', 'Christianity', 'well', 'before', 'Hitler', 'arrived.', 'The', 'other', 'was', 'the', 'system', 'of', 'social', 'ranks', 'that', 'were', 'used', 'in', 'Imperail', 'Germany', 'and', 'Austria', 'to', 'distinguish', 'Jews', 'from', 'the', 'rest', 'of', 'the', 'population.', 'These', \"don't\", 'seem', 'like', '\"little', 'things\"', 'to', 'me.', 'At', 'least', 'they', 'are', 'orders', 'worse', 'than', 'the', 'motto.', 'Do', 'you', 'think', 'that', 'the', 'motto', 'is', 'a', '\"little', 'thing\"', 'that', 'will', 'lead', 'to', 'worse', 'things', 'keith']\n"
     ]
    }
   ],
   "source": [
    "# split on white-space \n",
    "word_list = re.split(r\"\\s+\", text_string)\n",
    "print(word_list)"
   ]
  },
  {
   "cell_type": "code",
   "execution_count": null,
   "id": "f03799dc",
   "metadata": {},
   "outputs": [],
   "source": []
  },
  {
   "cell_type": "code",
   "execution_count": null,
   "id": "2016258c",
   "metadata": {},
   "outputs": [],
   "source": []
  },
  {
   "cell_type": "code",
   "execution_count": null,
   "id": "27529f66",
   "metadata": {},
   "outputs": [],
   "source": []
  },
  {
   "cell_type": "code",
   "execution_count": null,
   "id": "59b0751a",
   "metadata": {},
   "outputs": [],
   "source": []
  },
  {
   "cell_type": "code",
   "execution_count": null,
   "id": "c2aa85c7",
   "metadata": {},
   "outputs": [],
   "source": []
  },
  {
   "cell_type": "code",
   "execution_count": null,
   "id": "08e0cfac",
   "metadata": {},
   "outputs": [],
   "source": []
  },
  {
   "cell_type": "code",
   "execution_count": null,
   "id": "280c2e7a",
   "metadata": {},
   "outputs": [],
   "source": []
  },
  {
   "cell_type": "code",
   "execution_count": null,
   "id": "305bb82a",
   "metadata": {},
   "outputs": [],
   "source": []
  },
  {
   "cell_type": "code",
   "execution_count": null,
   "id": "781454cd",
   "metadata": {},
   "outputs": [],
   "source": []
  },
  {
   "cell_type": "code",
   "execution_count": null,
   "id": "67d3f60a",
   "metadata": {},
   "outputs": [],
   "source": []
  },
  {
   "cell_type": "code",
   "execution_count": null,
   "id": "ca46d17f",
   "metadata": {},
   "outputs": [],
   "source": []
  },
  {
   "cell_type": "code",
   "execution_count": null,
   "id": "d0113dd4",
   "metadata": {},
   "outputs": [],
   "source": []
  },
  {
   "cell_type": "code",
   "execution_count": null,
   "id": "e71436d7",
   "metadata": {},
   "outputs": [],
   "source": []
  },
  {
   "cell_type": "code",
   "execution_count": null,
   "id": "d8bd1acc",
   "metadata": {},
   "outputs": [],
   "source": []
  },
  {
   "cell_type": "code",
   "execution_count": null,
   "id": "c27fe625",
   "metadata": {},
   "outputs": [],
   "source": []
  },
  {
   "cell_type": "code",
   "execution_count": null,
   "id": "72680789",
   "metadata": {},
   "outputs": [],
   "source": []
  },
  {
   "cell_type": "code",
   "execution_count": null,
   "id": "5b021630",
   "metadata": {},
   "outputs": [],
   "source": []
  },
  {
   "cell_type": "code",
   "execution_count": null,
   "id": "eab40bed",
   "metadata": {},
   "outputs": [],
   "source": []
  },
  {
   "cell_type": "code",
   "execution_count": 24,
   "id": "d2a51e94",
   "metadata": {},
   "outputs": [
    {
     "data": {
      "text/plain": [
       "['From',\n",
       " 'keith@cco.caltech.edu',\n",
       " '(Keith',\n",
       " 'Allan',\n",
       " 'Schneider)',\n",
       " 'Subject',\n",
       " 'Re',\n",
       " '<<Pompous',\n",
       " 'ass',\n",
       " 'Organization',\n",
       " 'California',\n",
       " 'Institute',\n",
       " 'of',\n",
       " 'Technology',\n",
       " 'Pasadena',\n",
       " 'Lines',\n",
       " '16',\n",
       " 'NNTP-Posting-Host',\n",
       " 'punisher.caltech.edu',\n",
       " 'livesey@solntze.wpd.sgi.com',\n",
       " '(Jon',\n",
       " 'Livesey)',\n",
       " 'writes',\n",
       " '[...]',\n",
       " 'The',\n",
       " '\"`little\\'',\n",
       " 'things\"',\n",
       " 'above',\n",
       " 'were',\n",
       " 'in',\n",
       " 'reference',\n",
       " 'to',\n",
       " 'Germany',\n",
       " 'clearly.',\n",
       " 'People',\n",
       " 'said',\n",
       " 'that',\n",
       " 'there',\n",
       " 'were',\n",
       " 'similar',\n",
       " 'things',\n",
       " 'in',\n",
       " 'Germany',\n",
       " 'but',\n",
       " 'no',\n",
       " 'one',\n",
       " 'could',\n",
       " 'name',\n",
       " 'any.',\n",
       " \"That's\",\n",
       " 'not',\n",
       " 'true.',\n",
       " 'I',\n",
       " 'gave',\n",
       " 'you',\n",
       " 'two',\n",
       " 'examples.',\n",
       " 'One',\n",
       " 'was',\n",
       " 'the',\n",
       " 'rather',\n",
       " 'pevasive',\n",
       " 'anti',\n",
       " 'semitism',\n",
       " 'in',\n",
       " 'German',\n",
       " 'Christianity',\n",
       " 'well',\n",
       " 'before',\n",
       " 'Hitler',\n",
       " 'arrived.',\n",
       " 'The',\n",
       " 'other',\n",
       " 'was',\n",
       " 'the',\n",
       " 'system',\n",
       " 'of',\n",
       " 'social',\n",
       " 'ranks',\n",
       " 'that',\n",
       " 'were',\n",
       " 'used',\n",
       " 'in',\n",
       " 'Imperail',\n",
       " 'Germany',\n",
       " 'and',\n",
       " 'Austria',\n",
       " 'to',\n",
       " 'distinguish',\n",
       " 'Jews',\n",
       " 'from',\n",
       " 'the',\n",
       " 'rest',\n",
       " 'of',\n",
       " 'the',\n",
       " 'population.',\n",
       " 'These',\n",
       " \"don't\",\n",
       " 'seem',\n",
       " 'like',\n",
       " '\"little',\n",
       " 'things\"',\n",
       " 'to',\n",
       " 'me.',\n",
       " 'At',\n",
       " 'least',\n",
       " 'they',\n",
       " 'are',\n",
       " 'orders',\n",
       " 'worse',\n",
       " 'than',\n",
       " 'the',\n",
       " 'motto.',\n",
       " 'Do',\n",
       " 'you',\n",
       " 'think',\n",
       " 'that',\n",
       " 'the',\n",
       " 'motto',\n",
       " 'is',\n",
       " 'a',\n",
       " '\"little',\n",
       " 'thing\"',\n",
       " 'that',\n",
       " 'will',\n",
       " 'lead',\n",
       " 'to',\n",
       " 'worse',\n",
       " 'things',\n",
       " 'keith']"
      ]
     },
     "execution_count": 24,
     "metadata": {},
     "output_type": "execute_result"
    }
   ],
   "source": [
    "processed_token = [i for i  in re.split('\\s|\\n|\\t', text_string.strip()) if i != '']\n",
    "processed_token"
   ]
  },
  {
   "cell_type": "code",
   "execution_count": null,
   "id": "b6a12bbf",
   "metadata": {},
   "outputs": [],
   "source": []
  },
  {
   "cell_type": "code",
   "execution_count": null,
   "id": "754b4c78",
   "metadata": {},
   "outputs": [],
   "source": [
    "# processed_token = list(filter (lambda s:any([c.isalnum() for c in s]), processed_token))\n",
    "# processed_token"
   ]
  },
  {
   "cell_type": "code",
   "execution_count": 15,
   "id": "5ce00438",
   "metadata": {},
   "outputs": [],
   "source": [
    "# processed_token = [i.rstrip('.').\n",
    "#                          rstrip(',').\n",
    "#                          lstrip('(').  \n",
    "#                          rstrip(')').\n",
    "#                          lstrip('<').\n",
    "#                          rstrip('>').\n",
    "#                          rstrip(':').\n",
    "#                          lstrip('>').\n",
    "#                          rstrip('>').\n",
    "#                          lstrip('\"').\n",
    "#                          rstrip('\"').\n",
    "#                          lstrip(\"'\").\n",
    "#                          rstrip(\"'\").\n",
    "#                          lstrip(\"-\").\n",
    "#                          rstrip(\"-\") for i in processed_token]\n",
    "# processed_token"
   ]
  },
  {
   "cell_type": "code",
   "execution_count": null,
   "id": "e834492b",
   "metadata": {},
   "outputs": [],
   "source": [
    "\n"
   ]
  },
  {
   "cell_type": "code",
   "execution_count": null,
   "id": "525929a8",
   "metadata": {},
   "outputs": [],
   "source": []
  }
 ],
 "metadata": {
  "kernelspec": {
   "display_name": "Python 3 (ipykernel)",
   "language": "python",
   "name": "python3"
  },
  "language_info": {
   "codemirror_mode": {
    "name": "ipython",
    "version": 3
   },
   "file_extension": ".py",
   "mimetype": "text/x-python",
   "name": "python",
   "nbconvert_exporter": "python",
   "pygments_lexer": "ipython3",
   "version": "3.9.12"
  }
 },
 "nbformat": 4,
 "nbformat_minor": 5
}
