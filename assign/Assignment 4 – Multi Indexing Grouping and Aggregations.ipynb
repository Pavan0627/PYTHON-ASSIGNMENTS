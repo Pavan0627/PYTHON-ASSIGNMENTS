{
 "cells": [
  {
   "cell_type": "code",
   "execution_count": 1,
   "id": "b90b5d4c",
   "metadata": {},
   "outputs": [],
   "source": [
    "# load pandas\n",
    "import pandas as pd\n",
    "import seaborn as sns\n",
    "import numpy as np"
   ]
  },
  {
   "cell_type": "markdown",
   "id": "f3f8d80a",
   "metadata": {},
   "source": [
    "##### Load Data"
   ]
  },
  {
   "cell_type": "code",
   "execution_count": 20,
   "id": "2a5152fb",
   "metadata": {},
   "outputs": [
    {
     "data": {
      "text/html": [
       "<div>\n",
       "<style scoped>\n",
       "    .dataframe tbody tr th:only-of-type {\n",
       "        vertical-align: middle;\n",
       "    }\n",
       "\n",
       "    .dataframe tbody tr th {\n",
       "        vertical-align: top;\n",
       "    }\n",
       "\n",
       "    .dataframe thead th {\n",
       "        text-align: right;\n",
       "    }\n",
       "</style>\n",
       "<table border=\"1\" class=\"dataframe\">\n",
       "  <thead>\n",
       "    <tr style=\"text-align: right;\">\n",
       "      <th></th>\n",
       "      <th>Date</th>\n",
       "      <th>Close</th>\n",
       "      <th>Volume</th>\n",
       "      <th>Symbol</th>\n",
       "    </tr>\n",
       "  </thead>\n",
       "  <tbody>\n",
       "    <tr>\n",
       "      <th>0</th>\n",
       "      <td>2016-10-03</td>\n",
       "      <td>31.50</td>\n",
       "      <td>14070500</td>\n",
       "      <td>CSCO</td>\n",
       "    </tr>\n",
       "    <tr>\n",
       "      <th>1</th>\n",
       "      <td>2016-10-03</td>\n",
       "      <td>112.52</td>\n",
       "      <td>21701800</td>\n",
       "      <td>AAPL</td>\n",
       "    </tr>\n",
       "    <tr>\n",
       "      <th>2</th>\n",
       "      <td>2016-10-03</td>\n",
       "      <td>57.42</td>\n",
       "      <td>19189500</td>\n",
       "      <td>MSFT</td>\n",
       "    </tr>\n",
       "    <tr>\n",
       "      <th>3</th>\n",
       "      <td>2016-10-04</td>\n",
       "      <td>113.00</td>\n",
       "      <td>29736800</td>\n",
       "      <td>AAPL</td>\n",
       "    </tr>\n",
       "    <tr>\n",
       "      <th>4</th>\n",
       "      <td>2016-10-04</td>\n",
       "      <td>57.24</td>\n",
       "      <td>20085900</td>\n",
       "      <td>MSFT</td>\n",
       "    </tr>\n",
       "    <tr>\n",
       "      <th>5</th>\n",
       "      <td>2016-10-04</td>\n",
       "      <td>31.35</td>\n",
       "      <td>18460400</td>\n",
       "      <td>CSCO</td>\n",
       "    </tr>\n",
       "    <tr>\n",
       "      <th>6</th>\n",
       "      <td>2016-10-05</td>\n",
       "      <td>57.64</td>\n",
       "      <td>16726400</td>\n",
       "      <td>MSFT</td>\n",
       "    </tr>\n",
       "    <tr>\n",
       "      <th>7</th>\n",
       "      <td>2016-10-05</td>\n",
       "      <td>31.59</td>\n",
       "      <td>11808600</td>\n",
       "      <td>CSCO</td>\n",
       "    </tr>\n",
       "    <tr>\n",
       "      <th>8</th>\n",
       "      <td>2016-10-05</td>\n",
       "      <td>113.05</td>\n",
       "      <td>21453100</td>\n",
       "      <td>AAPL</td>\n",
       "    </tr>\n",
       "  </tbody>\n",
       "</table>\n",
       "</div>"
      ],
      "text/plain": [
       "         Date   Close    Volume Symbol\n",
       "0  2016-10-03   31.50  14070500   CSCO\n",
       "1  2016-10-03  112.52  21701800   AAPL\n",
       "2  2016-10-03   57.42  19189500   MSFT\n",
       "3  2016-10-04  113.00  29736800   AAPL\n",
       "4  2016-10-04   57.24  20085900   MSFT\n",
       "5  2016-10-04   31.35  18460400   CSCO\n",
       "6  2016-10-05   57.64  16726400   MSFT\n",
       "7  2016-10-05   31.59  11808600   CSCO\n",
       "8  2016-10-05  113.05  21453100   AAPL"
      ]
     },
     "execution_count": 20,
     "metadata": {},
     "output_type": "execute_result"
    }
   ],
   "source": [
    "smallstock_data = \"http://bit.ly/smallstocks\"\n",
    "data = pd.read_csv(smallstock_data)\n",
    "data"
   ]
  },
  {
   "cell_type": "markdown",
   "id": "bcaa6d5a",
   "metadata": {},
   "source": [
    "#### set index on ‘Symbol‘ and 'Date‘, allow inplace changes\n"
   ]
  },
  {
   "cell_type": "code",
   "execution_count": 21,
   "id": "34896844",
   "metadata": {},
   "outputs": [
    {
     "name": "stderr",
     "output_type": "stream",
     "text": [
      "C:\\Users\\ds27\\AppData\\Local\\Temp\\ipykernel_8504\\1946736114.py:1: FutureWarning: In a future version of pandas all arguments of DataFrame.set_index except for the argument 'keys' will be keyword-only.\n",
      "  data.set_index ('Symbol','Date',inplace=True)\n"
     ]
    },
    {
     "data": {
      "text/html": [
       "<div>\n",
       "<style scoped>\n",
       "    .dataframe tbody tr th:only-of-type {\n",
       "        vertical-align: middle;\n",
       "    }\n",
       "\n",
       "    .dataframe tbody tr th {\n",
       "        vertical-align: top;\n",
       "    }\n",
       "\n",
       "    .dataframe thead th {\n",
       "        text-align: right;\n",
       "    }\n",
       "</style>\n",
       "<table border=\"1\" class=\"dataframe\">\n",
       "  <thead>\n",
       "    <tr style=\"text-align: right;\">\n",
       "      <th></th>\n",
       "      <th>Date</th>\n",
       "      <th>Close</th>\n",
       "      <th>Volume</th>\n",
       "    </tr>\n",
       "    <tr>\n",
       "      <th>Symbol</th>\n",
       "      <th></th>\n",
       "      <th></th>\n",
       "      <th></th>\n",
       "    </tr>\n",
       "  </thead>\n",
       "  <tbody>\n",
       "    <tr>\n",
       "      <th>CSCO</th>\n",
       "      <td>2016-10-03</td>\n",
       "      <td>31.50</td>\n",
       "      <td>14070500</td>\n",
       "    </tr>\n",
       "    <tr>\n",
       "      <th>AAPL</th>\n",
       "      <td>2016-10-03</td>\n",
       "      <td>112.52</td>\n",
       "      <td>21701800</td>\n",
       "    </tr>\n",
       "    <tr>\n",
       "      <th>MSFT</th>\n",
       "      <td>2016-10-03</td>\n",
       "      <td>57.42</td>\n",
       "      <td>19189500</td>\n",
       "    </tr>\n",
       "    <tr>\n",
       "      <th>AAPL</th>\n",
       "      <td>2016-10-04</td>\n",
       "      <td>113.00</td>\n",
       "      <td>29736800</td>\n",
       "    </tr>\n",
       "    <tr>\n",
       "      <th>MSFT</th>\n",
       "      <td>2016-10-04</td>\n",
       "      <td>57.24</td>\n",
       "      <td>20085900</td>\n",
       "    </tr>\n",
       "    <tr>\n",
       "      <th>CSCO</th>\n",
       "      <td>2016-10-04</td>\n",
       "      <td>31.35</td>\n",
       "      <td>18460400</td>\n",
       "    </tr>\n",
       "    <tr>\n",
       "      <th>MSFT</th>\n",
       "      <td>2016-10-05</td>\n",
       "      <td>57.64</td>\n",
       "      <td>16726400</td>\n",
       "    </tr>\n",
       "    <tr>\n",
       "      <th>CSCO</th>\n",
       "      <td>2016-10-05</td>\n",
       "      <td>31.59</td>\n",
       "      <td>11808600</td>\n",
       "    </tr>\n",
       "    <tr>\n",
       "      <th>AAPL</th>\n",
       "      <td>2016-10-05</td>\n",
       "      <td>113.05</td>\n",
       "      <td>21453100</td>\n",
       "    </tr>\n",
       "  </tbody>\n",
       "</table>\n",
       "</div>"
      ],
      "text/plain": [
       "              Date   Close    Volume\n",
       "Symbol                              \n",
       "CSCO    2016-10-03   31.50  14070500\n",
       "AAPL    2016-10-03  112.52  21701800\n",
       "MSFT    2016-10-03   57.42  19189500\n",
       "AAPL    2016-10-04  113.00  29736800\n",
       "MSFT    2016-10-04   57.24  20085900\n",
       "CSCO    2016-10-04   31.35  18460400\n",
       "MSFT    2016-10-05   57.64  16726400\n",
       "CSCO    2016-10-05   31.59  11808600\n",
       "AAPL    2016-10-05  113.05  21453100"
      ]
     },
     "execution_count": 21,
     "metadata": {},
     "output_type": "execute_result"
    }
   ],
   "source": [
    "data.set_index ('Symbol','Date',inplace=True)\n",
    "data"
   ]
  },
  {
   "cell_type": "markdown",
   "id": "54364d38",
   "metadata": {},
   "source": [
    "####  sort indexes"
   ]
  },
  {
   "cell_type": "code",
   "execution_count": 12,
   "id": "50790290",
   "metadata": {},
   "outputs": [
    {
     "data": {
      "text/html": [
       "<div>\n",
       "<style scoped>\n",
       "    .dataframe tbody tr th:only-of-type {\n",
       "        vertical-align: middle;\n",
       "    }\n",
       "\n",
       "    .dataframe tbody tr th {\n",
       "        vertical-align: top;\n",
       "    }\n",
       "\n",
       "    .dataframe thead th {\n",
       "        text-align: right;\n",
       "    }\n",
       "</style>\n",
       "<table border=\"1\" class=\"dataframe\">\n",
       "  <thead>\n",
       "    <tr style=\"text-align: right;\">\n",
       "      <th></th>\n",
       "      <th>Date</th>\n",
       "      <th>Close</th>\n",
       "      <th>Volume</th>\n",
       "    </tr>\n",
       "    <tr>\n",
       "      <th>Symbol</th>\n",
       "      <th></th>\n",
       "      <th></th>\n",
       "      <th></th>\n",
       "    </tr>\n",
       "  </thead>\n",
       "  <tbody>\n",
       "    <tr>\n",
       "      <th>AAPL</th>\n",
       "      <td>2016-10-03</td>\n",
       "      <td>112.52</td>\n",
       "      <td>21701800</td>\n",
       "    </tr>\n",
       "    <tr>\n",
       "      <th>AAPL</th>\n",
       "      <td>2016-10-04</td>\n",
       "      <td>113.00</td>\n",
       "      <td>29736800</td>\n",
       "    </tr>\n",
       "    <tr>\n",
       "      <th>AAPL</th>\n",
       "      <td>2016-10-05</td>\n",
       "      <td>113.05</td>\n",
       "      <td>21453100</td>\n",
       "    </tr>\n",
       "    <tr>\n",
       "      <th>CSCO</th>\n",
       "      <td>2016-10-03</td>\n",
       "      <td>31.50</td>\n",
       "      <td>14070500</td>\n",
       "    </tr>\n",
       "    <tr>\n",
       "      <th>CSCO</th>\n",
       "      <td>2016-10-04</td>\n",
       "      <td>31.35</td>\n",
       "      <td>18460400</td>\n",
       "    </tr>\n",
       "    <tr>\n",
       "      <th>CSCO</th>\n",
       "      <td>2016-10-05</td>\n",
       "      <td>31.59</td>\n",
       "      <td>11808600</td>\n",
       "    </tr>\n",
       "    <tr>\n",
       "      <th>MSFT</th>\n",
       "      <td>2016-10-03</td>\n",
       "      <td>57.42</td>\n",
       "      <td>19189500</td>\n",
       "    </tr>\n",
       "    <tr>\n",
       "      <th>MSFT</th>\n",
       "      <td>2016-10-04</td>\n",
       "      <td>57.24</td>\n",
       "      <td>20085900</td>\n",
       "    </tr>\n",
       "    <tr>\n",
       "      <th>MSFT</th>\n",
       "      <td>2016-10-05</td>\n",
       "      <td>57.64</td>\n",
       "      <td>16726400</td>\n",
       "    </tr>\n",
       "  </tbody>\n",
       "</table>\n",
       "</div>"
      ],
      "text/plain": [
       "              Date   Close    Volume\n",
       "Symbol                              \n",
       "AAPL    2016-10-03  112.52  21701800\n",
       "AAPL    2016-10-04  113.00  29736800\n",
       "AAPL    2016-10-05  113.05  21453100\n",
       "CSCO    2016-10-03   31.50  14070500\n",
       "CSCO    2016-10-04   31.35  18460400\n",
       "CSCO    2016-10-05   31.59  11808600\n",
       "MSFT    2016-10-03   57.42  19189500\n",
       "MSFT    2016-10-04   57.24  20085900\n",
       "MSFT    2016-10-05   57.64  16726400"
      ]
     },
     "execution_count": 12,
     "metadata": {},
     "output_type": "execute_result"
    }
   ],
   "source": [
    "data.sort_index()"
   ]
  },
  {
   "cell_type": "markdown",
   "id": "e85d0208",
   "metadata": {},
   "source": [
    "####  Select data for “AAPL”\n"
   ]
  },
  {
   "cell_type": "code",
   "execution_count": 33,
   "id": "52782765",
   "metadata": {},
   "outputs": [
    {
     "data": {
      "text/html": [
       "<div>\n",
       "<style scoped>\n",
       "    .dataframe tbody tr th:only-of-type {\n",
       "        vertical-align: middle;\n",
       "    }\n",
       "\n",
       "    .dataframe tbody tr th {\n",
       "        vertical-align: top;\n",
       "    }\n",
       "\n",
       "    .dataframe thead th {\n",
       "        text-align: right;\n",
       "    }\n",
       "</style>\n",
       "<table border=\"1\" class=\"dataframe\">\n",
       "  <thead>\n",
       "    <tr style=\"text-align: right;\">\n",
       "      <th></th>\n",
       "      <th>Date</th>\n",
       "      <th>Close</th>\n",
       "      <th>Volume</th>\n",
       "    </tr>\n",
       "    <tr>\n",
       "      <th>Symbol</th>\n",
       "      <th></th>\n",
       "      <th></th>\n",
       "      <th></th>\n",
       "    </tr>\n",
       "  </thead>\n",
       "  <tbody>\n",
       "    <tr>\n",
       "      <th>AAPL</th>\n",
       "      <td>2016-10-03</td>\n",
       "      <td>112.52</td>\n",
       "      <td>21701800</td>\n",
       "    </tr>\n",
       "    <tr>\n",
       "      <th>AAPL</th>\n",
       "      <td>2016-10-04</td>\n",
       "      <td>113.00</td>\n",
       "      <td>29736800</td>\n",
       "    </tr>\n",
       "    <tr>\n",
       "      <th>AAPL</th>\n",
       "      <td>2016-10-05</td>\n",
       "      <td>113.05</td>\n",
       "      <td>21453100</td>\n",
       "    </tr>\n",
       "  </tbody>\n",
       "</table>\n",
       "</div>"
      ],
      "text/plain": [
       "              Date   Close    Volume\n",
       "Symbol                              \n",
       "AAPL    2016-10-03  112.52  21701800\n",
       "AAPL    2016-10-04  113.00  29736800\n",
       "AAPL    2016-10-05  113.05  21453100"
      ]
     },
     "execution_count": 33,
     "metadata": {},
     "output_type": "execute_result"
    }
   ],
   "source": [
    "AAPL = data.loc['AAPL']\n",
    "AAPL"
   ]
  },
  {
   "cell_type": "markdown",
   "id": "de38b0cf",
   "metadata": {},
   "source": [
    "####  Select “Close” value for “AAPL” on “2016-10-03”\n"
   ]
  },
  {
   "cell_type": "code",
   "execution_count": 26,
   "id": "72f2b665",
   "metadata": {},
   "outputs": [
    {
     "data": {
      "text/html": [
       "<div>\n",
       "<style scoped>\n",
       "    .dataframe tbody tr th:only-of-type {\n",
       "        vertical-align: middle;\n",
       "    }\n",
       "\n",
       "    .dataframe tbody tr th {\n",
       "        vertical-align: top;\n",
       "    }\n",
       "\n",
       "    .dataframe thead th {\n",
       "        text-align: right;\n",
       "    }\n",
       "</style>\n",
       "<table border=\"1\" class=\"dataframe\">\n",
       "  <thead>\n",
       "    <tr style=\"text-align: right;\">\n",
       "      <th></th>\n",
       "      <th>Date</th>\n",
       "      <th>Close</th>\n",
       "      <th>Volume</th>\n",
       "    </tr>\n",
       "    <tr>\n",
       "      <th>Symbol</th>\n",
       "      <th></th>\n",
       "      <th></th>\n",
       "      <th></th>\n",
       "    </tr>\n",
       "  </thead>\n",
       "  <tbody>\n",
       "    <tr>\n",
       "      <th>AAPL</th>\n",
       "      <td>2016-10-03</td>\n",
       "      <td>112.52</td>\n",
       "      <td>21701800</td>\n",
       "    </tr>\n",
       "  </tbody>\n",
       "</table>\n",
       "</div>"
      ],
      "text/plain": [
       "              Date   Close    Volume\n",
       "Symbol                              \n",
       "AAPL    2016-10-03  112.52  21701800"
      ]
     },
     "execution_count": 26,
     "metadata": {},
     "output_type": "execute_result"
    }
   ],
   "source": [
    "AAPL.loc[AAPL['Date'] == '2016-10-03']"
   ]
  },
  {
   "cell_type": "markdown",
   "id": "a0c2e06e",
   "metadata": {},
   "source": [
    "AAPL['Date'] == '2016-10-03'"
   ]
  },
  {
   "cell_type": "markdown",
   "id": "a392fb1b",
   "metadata": {},
   "source": [
    "#### Select data for Apple and Microsoft\n"
   ]
  },
  {
   "cell_type": "code",
   "execution_count": 31,
   "id": "69b2e213",
   "metadata": {},
   "outputs": [
    {
     "data": {
      "text/html": [
       "<div>\n",
       "<style scoped>\n",
       "    .dataframe tbody tr th:only-of-type {\n",
       "        vertical-align: middle;\n",
       "    }\n",
       "\n",
       "    .dataframe tbody tr th {\n",
       "        vertical-align: top;\n",
       "    }\n",
       "\n",
       "    .dataframe thead th {\n",
       "        text-align: right;\n",
       "    }\n",
       "</style>\n",
       "<table border=\"1\" class=\"dataframe\">\n",
       "  <thead>\n",
       "    <tr style=\"text-align: right;\">\n",
       "      <th></th>\n",
       "      <th>Date</th>\n",
       "      <th>Close</th>\n",
       "      <th>Volume</th>\n",
       "    </tr>\n",
       "    <tr>\n",
       "      <th>Symbol</th>\n",
       "      <th></th>\n",
       "      <th></th>\n",
       "      <th></th>\n",
       "    </tr>\n",
       "  </thead>\n",
       "  <tbody>\n",
       "    <tr>\n",
       "      <th>AAPL</th>\n",
       "      <td>2016-10-03</td>\n",
       "      <td>112.52</td>\n",
       "      <td>21701800</td>\n",
       "    </tr>\n",
       "    <tr>\n",
       "      <th>AAPL</th>\n",
       "      <td>2016-10-04</td>\n",
       "      <td>113.00</td>\n",
       "      <td>29736800</td>\n",
       "    </tr>\n",
       "    <tr>\n",
       "      <th>AAPL</th>\n",
       "      <td>2016-10-05</td>\n",
       "      <td>113.05</td>\n",
       "      <td>21453100</td>\n",
       "    </tr>\n",
       "    <tr>\n",
       "      <th>MSFT</th>\n",
       "      <td>2016-10-03</td>\n",
       "      <td>57.42</td>\n",
       "      <td>19189500</td>\n",
       "    </tr>\n",
       "    <tr>\n",
       "      <th>MSFT</th>\n",
       "      <td>2016-10-04</td>\n",
       "      <td>57.24</td>\n",
       "      <td>20085900</td>\n",
       "    </tr>\n",
       "    <tr>\n",
       "      <th>MSFT</th>\n",
       "      <td>2016-10-05</td>\n",
       "      <td>57.64</td>\n",
       "      <td>16726400</td>\n",
       "    </tr>\n",
       "  </tbody>\n",
       "</table>\n",
       "</div>"
      ],
      "text/plain": [
       "              Date   Close    Volume\n",
       "Symbol                              \n",
       "AAPL    2016-10-03  112.52  21701800\n",
       "AAPL    2016-10-04  113.00  29736800\n",
       "AAPL    2016-10-05  113.05  21453100\n",
       "MSFT    2016-10-03   57.42  19189500\n",
       "MSFT    2016-10-04   57.24  20085900\n",
       "MSFT    2016-10-05   57.64  16726400"
      ]
     },
     "execution_count": 31,
     "metadata": {},
     "output_type": "execute_result"
    }
   ],
   "source": [
    "am = data.loc[['AAPL','MSFT']]\n",
    "am"
   ]
  },
  {
   "cell_type": "markdown",
   "id": "aed9e940",
   "metadata": {},
   "source": [
    "#### 6) Select data for Apple and Microsoft for a particular Date\n"
   ]
  },
  {
   "cell_type": "code",
   "execution_count": 32,
   "id": "3438d90a",
   "metadata": {},
   "outputs": [
    {
     "data": {
      "text/html": [
       "<div>\n",
       "<style scoped>\n",
       "    .dataframe tbody tr th:only-of-type {\n",
       "        vertical-align: middle;\n",
       "    }\n",
       "\n",
       "    .dataframe tbody tr th {\n",
       "        vertical-align: top;\n",
       "    }\n",
       "\n",
       "    .dataframe thead th {\n",
       "        text-align: right;\n",
       "    }\n",
       "</style>\n",
       "<table border=\"1\" class=\"dataframe\">\n",
       "  <thead>\n",
       "    <tr style=\"text-align: right;\">\n",
       "      <th></th>\n",
       "      <th>Date</th>\n",
       "      <th>Close</th>\n",
       "      <th>Volume</th>\n",
       "    </tr>\n",
       "    <tr>\n",
       "      <th>Symbol</th>\n",
       "      <th></th>\n",
       "      <th></th>\n",
       "      <th></th>\n",
       "    </tr>\n",
       "  </thead>\n",
       "  <tbody>\n",
       "    <tr>\n",
       "      <th>AAPL</th>\n",
       "      <td>2016-10-03</td>\n",
       "      <td>112.52</td>\n",
       "      <td>21701800</td>\n",
       "    </tr>\n",
       "    <tr>\n",
       "      <th>MSFT</th>\n",
       "      <td>2016-10-03</td>\n",
       "      <td>57.42</td>\n",
       "      <td>19189500</td>\n",
       "    </tr>\n",
       "  </tbody>\n",
       "</table>\n",
       "</div>"
      ],
      "text/plain": [
       "              Date   Close    Volume\n",
       "Symbol                              \n",
       "AAPL    2016-10-03  112.52  21701800\n",
       "MSFT    2016-10-03   57.42  19189500"
      ]
     },
     "execution_count": 32,
     "metadata": {},
     "output_type": "execute_result"
    }
   ],
   "source": [
    "am.loc[am['Date'] == '2016-10-03']"
   ]
  },
  {
   "cell_type": "markdown",
   "id": "5309d6ba",
   "metadata": {},
   "source": [
    "#### 7) Select data for apple on multiple dates"
   ]
  },
  {
   "cell_type": "code",
   "execution_count": 42,
   "id": "0c0137da",
   "metadata": {},
   "outputs": [
    {
     "data": {
      "text/plain": [
       "Symbol  Date      \n",
       "AAPL    2016-10-03    1\n",
       "        2016-10-04    1\n",
       "        2016-10-05    1\n",
       "CSCO    2016-10-03    1\n",
       "        2016-10-04    1\n",
       "        2016-10-05    1\n",
       "MSFT    2016-10-03    1\n",
       "        2016-10-04    1\n",
       "        2016-10-05    1\n",
       "Name: Date, dtype: int64"
      ]
     },
     "execution_count": 42,
     "metadata": {},
     "output_type": "execute_result"
    }
   ],
   "source": [
    "data.groupby('Symbol')['Date'].value_counts()"
   ]
  },
  {
   "cell_type": "markdown",
   "id": "2c74ce5e",
   "metadata": {},
   "source": [
    "#### 8) Selecting all data for '2016-10-03','2016-10-04‘date\n"
   ]
  },
  {
   "cell_type": "code",
   "execution_count": 47,
   "id": "f730fcfc",
   "metadata": {},
   "outputs": [
    {
     "data": {
      "text/html": [
       "<div>\n",
       "<style scoped>\n",
       "    .dataframe tbody tr th:only-of-type {\n",
       "        vertical-align: middle;\n",
       "    }\n",
       "\n",
       "    .dataframe tbody tr th {\n",
       "        vertical-align: top;\n",
       "    }\n",
       "\n",
       "    .dataframe thead th {\n",
       "        text-align: right;\n",
       "    }\n",
       "</style>\n",
       "<table border=\"1\" class=\"dataframe\">\n",
       "  <thead>\n",
       "    <tr style=\"text-align: right;\">\n",
       "      <th></th>\n",
       "      <th>Date</th>\n",
       "      <th>Close</th>\n",
       "      <th>Volume</th>\n",
       "      <th>Symbol</th>\n",
       "    </tr>\n",
       "  </thead>\n",
       "  <tbody>\n",
       "  </tbody>\n",
       "</table>\n",
       "</div>"
      ],
      "text/plain": [
       "Empty DataFrame\n",
       "Columns: [Date, Close, Volume, Symbol]\n",
       "Index: []"
      ]
     },
     "execution_count": 47,
     "metadata": {},
     "output_type": "execute_result"
    }
   ],
   "source": [
    "data.loc['2016-10-03':'2016-10-04']"
   ]
  },
  {
   "cell_type": "markdown",
   "id": "6b252852",
   "metadata": {},
   "source": [
    "#### 9) Fetch all those rows where Volume>18000000"
   ]
  },
  {
   "cell_type": "code",
   "execution_count": null,
   "id": "ff07d1c7",
   "metadata": {},
   "outputs": [],
   "source": []
  },
  {
   "cell_type": "markdown",
   "id": "2a965fc0",
   "metadata": {},
   "source": [
    "## Grouping and Aggregations"
   ]
  },
  {
   "cell_type": "code",
   "execution_count": 33,
   "id": "4c9788a3",
   "metadata": {},
   "outputs": [
    {
     "data": {
      "text/html": [
       "<div>\n",
       "<style scoped>\n",
       "    .dataframe tbody tr th:only-of-type {\n",
       "        vertical-align: middle;\n",
       "    }\n",
       "\n",
       "    .dataframe tbody tr th {\n",
       "        vertical-align: top;\n",
       "    }\n",
       "\n",
       "    .dataframe thead th {\n",
       "        text-align: right;\n",
       "    }\n",
       "</style>\n",
       "<table border=\"1\" class=\"dataframe\">\n",
       "  <thead>\n",
       "    <tr style=\"text-align: right;\">\n",
       "      <th></th>\n",
       "      <th>date</th>\n",
       "      <th>gender</th>\n",
       "      <th>region</th>\n",
       "      <th>sales</th>\n",
       "    </tr>\n",
       "  </thead>\n",
       "  <tbody>\n",
       "    <tr>\n",
       "      <th>0</th>\n",
       "      <td>8/22/2022</td>\n",
       "      <td>Male</td>\n",
       "      <td>North-West</td>\n",
       "      <td>20381</td>\n",
       "    </tr>\n",
       "    <tr>\n",
       "      <th>1</th>\n",
       "      <td>3/5/2022</td>\n",
       "      <td>Male</td>\n",
       "      <td>North-East</td>\n",
       "      <td>14495</td>\n",
       "    </tr>\n",
       "    <tr>\n",
       "      <th>2</th>\n",
       "      <td>2/9/2022</td>\n",
       "      <td>Male</td>\n",
       "      <td>North-East</td>\n",
       "      <td>13510</td>\n",
       "    </tr>\n",
       "    <tr>\n",
       "      <th>3</th>\n",
       "      <td>6/22/2022</td>\n",
       "      <td>Male</td>\n",
       "      <td>North-East</td>\n",
       "      <td>15983</td>\n",
       "    </tr>\n",
       "    <tr>\n",
       "      <th>4</th>\n",
       "      <td>8/10/2022</td>\n",
       "      <td>Female</td>\n",
       "      <td>North-West</td>\n",
       "      <td>15007</td>\n",
       "    </tr>\n",
       "    <tr>\n",
       "      <th>...</th>\n",
       "      <td>...</td>\n",
       "      <td>...</td>\n",
       "      <td>...</td>\n",
       "      <td>...</td>\n",
       "    </tr>\n",
       "    <tr>\n",
       "      <th>995</th>\n",
       "      <td>6/2/2022</td>\n",
       "      <td>Female</td>\n",
       "      <td>North-West</td>\n",
       "      <td>14015</td>\n",
       "    </tr>\n",
       "    <tr>\n",
       "      <th>996</th>\n",
       "      <td>5/20/2022</td>\n",
       "      <td>Female</td>\n",
       "      <td>North-East</td>\n",
       "      <td>15503</td>\n",
       "    </tr>\n",
       "    <tr>\n",
       "      <th>997</th>\n",
       "      <td>4/2/2022</td>\n",
       "      <td>Male</td>\n",
       "      <td>North-East</td>\n",
       "      <td>18714</td>\n",
       "    </tr>\n",
       "    <tr>\n",
       "      <th>998</th>\n",
       "      <td>12/7/2022</td>\n",
       "      <td>Male</td>\n",
       "      <td>North-East</td>\n",
       "      <td>19910</td>\n",
       "    </tr>\n",
       "    <tr>\n",
       "      <th>999</th>\n",
       "      <td>12/19/2022</td>\n",
       "      <td>Female</td>\n",
       "      <td>North-West</td>\n",
       "      <td>16589</td>\n",
       "    </tr>\n",
       "  </tbody>\n",
       "</table>\n",
       "<p>1000 rows × 4 columns</p>\n",
       "</div>"
      ],
      "text/plain": [
       "           date  gender      region  sales\n",
       "0     8/22/2022    Male  North-West  20381\n",
       "1      3/5/2022    Male  North-East  14495\n",
       "2      2/9/2022    Male  North-East  13510\n",
       "3     6/22/2022    Male  North-East  15983\n",
       "4     8/10/2022  Female  North-West  15007\n",
       "..          ...     ...         ...    ...\n",
       "995    6/2/2022  Female  North-West  14015\n",
       "996   5/20/2022  Female  North-East  15503\n",
       "997    4/2/2022    Male  North-East  18714\n",
       "998   12/7/2022    Male  North-East  19910\n",
       "999  12/19/2022  Female  North-West  16589\n",
       "\n",
       "[1000 rows x 4 columns]"
      ]
     },
     "execution_count": 33,
     "metadata": {},
     "output_type": "execute_result"
    }
   ],
   "source": [
    "sales_data = \"https://raw.githubusercontent.com/datagy/data/main/sales.csv\"\n",
    "data = pd.read_csv(sales_data)\n",
    "data"
   ]
  },
  {
   "cell_type": "markdown",
   "id": "f4047639",
   "metadata": {},
   "source": [
    "####  1) Load data and group by Region\n"
   ]
  },
  {
   "cell_type": "code",
   "execution_count": 5,
   "id": "63964b7e",
   "metadata": {},
   "outputs": [
    {
     "data": {
      "text/html": [
       "<div>\n",
       "<style scoped>\n",
       "    .dataframe tbody tr th:only-of-type {\n",
       "        vertical-align: middle;\n",
       "    }\n",
       "\n",
       "    .dataframe tbody tr th {\n",
       "        vertical-align: top;\n",
       "    }\n",
       "\n",
       "    .dataframe thead tr th {\n",
       "        text-align: left;\n",
       "    }\n",
       "\n",
       "    .dataframe thead tr:last-of-type th {\n",
       "        text-align: right;\n",
       "    }\n",
       "</style>\n",
       "<table border=\"1\" class=\"dataframe\">\n",
       "  <thead>\n",
       "    <tr>\n",
       "      <th></th>\n",
       "      <th colspan=\"8\" halign=\"left\">sales</th>\n",
       "    </tr>\n",
       "    <tr>\n",
       "      <th></th>\n",
       "      <th>count</th>\n",
       "      <th>mean</th>\n",
       "      <th>std</th>\n",
       "      <th>min</th>\n",
       "      <th>25%</th>\n",
       "      <th>50%</th>\n",
       "      <th>75%</th>\n",
       "      <th>max</th>\n",
       "    </tr>\n",
       "    <tr>\n",
       "      <th>region</th>\n",
       "      <th></th>\n",
       "      <th></th>\n",
       "      <th></th>\n",
       "      <th></th>\n",
       "      <th></th>\n",
       "      <th></th>\n",
       "      <th></th>\n",
       "      <th></th>\n",
       "    </tr>\n",
       "  </thead>\n",
       "  <tbody>\n",
       "    <tr>\n",
       "      <th>North-East</th>\n",
       "      <td>347.0</td>\n",
       "      <td>17386.072046</td>\n",
       "      <td>2032.541552</td>\n",
       "      <td>11664.0</td>\n",
       "      <td>16027.0</td>\n",
       "      <td>17414.0</td>\n",
       "      <td>18678.00</td>\n",
       "      <td>22545.0</td>\n",
       "    </tr>\n",
       "    <tr>\n",
       "      <th>North-West</th>\n",
       "      <td>322.0</td>\n",
       "      <td>15257.732919</td>\n",
       "      <td>3621.456493</td>\n",
       "      <td>6084.0</td>\n",
       "      <td>12523.0</td>\n",
       "      <td>15337.5</td>\n",
       "      <td>17703.75</td>\n",
       "      <td>26813.0</td>\n",
       "    </tr>\n",
       "    <tr>\n",
       "      <th>South</th>\n",
       "      <td>331.0</td>\n",
       "      <td>24466.864048</td>\n",
       "      <td>5253.702513</td>\n",
       "      <td>10768.0</td>\n",
       "      <td>20868.0</td>\n",
       "      <td>24492.0</td>\n",
       "      <td>27908.50</td>\n",
       "      <td>43775.0</td>\n",
       "    </tr>\n",
       "  </tbody>\n",
       "</table>\n",
       "</div>"
      ],
      "text/plain": [
       "            sales                                                        \\\n",
       "            count          mean          std      min      25%      50%   \n",
       "region                                                                    \n",
       "North-East  347.0  17386.072046  2032.541552  11664.0  16027.0  17414.0   \n",
       "North-West  322.0  15257.732919  3621.456493   6084.0  12523.0  15337.5   \n",
       "South       331.0  24466.864048  5253.702513  10768.0  20868.0  24492.0   \n",
       "\n",
       "                               \n",
       "                 75%      max  \n",
       "region                         \n",
       "North-East  18678.00  22545.0  \n",
       "North-West  17703.75  26813.0  \n",
       "South       27908.50  43775.0  "
      ]
     },
     "execution_count": 5,
     "metadata": {},
     "output_type": "execute_result"
    }
   ],
   "source": [
    "data.groupby('region').describe()"
   ]
  },
  {
   "cell_type": "markdown",
   "id": "9e6d521d",
   "metadata": {},
   "source": [
    "#### 2) counting number of groups\n"
   ]
  },
  {
   "cell_type": "code",
   "execution_count": 6,
   "id": "e3246efa",
   "metadata": {},
   "outputs": [
    {
     "data": {
      "text/html": [
       "<div>\n",
       "<style scoped>\n",
       "    .dataframe tbody tr th:only-of-type {\n",
       "        vertical-align: middle;\n",
       "    }\n",
       "\n",
       "    .dataframe tbody tr th {\n",
       "        vertical-align: top;\n",
       "    }\n",
       "\n",
       "    .dataframe thead th {\n",
       "        text-align: right;\n",
       "    }\n",
       "</style>\n",
       "<table border=\"1\" class=\"dataframe\">\n",
       "  <thead>\n",
       "    <tr style=\"text-align: right;\">\n",
       "      <th></th>\n",
       "      <th>date</th>\n",
       "      <th>gender</th>\n",
       "      <th>sales</th>\n",
       "    </tr>\n",
       "    <tr>\n",
       "      <th>region</th>\n",
       "      <th></th>\n",
       "      <th></th>\n",
       "      <th></th>\n",
       "    </tr>\n",
       "  </thead>\n",
       "  <tbody>\n",
       "    <tr>\n",
       "      <th>North-East</th>\n",
       "      <td>347</td>\n",
       "      <td>347</td>\n",
       "      <td>347</td>\n",
       "    </tr>\n",
       "    <tr>\n",
       "      <th>North-West</th>\n",
       "      <td>322</td>\n",
       "      <td>322</td>\n",
       "      <td>322</td>\n",
       "    </tr>\n",
       "    <tr>\n",
       "      <th>South</th>\n",
       "      <td>331</td>\n",
       "      <td>331</td>\n",
       "      <td>331</td>\n",
       "    </tr>\n",
       "  </tbody>\n",
       "</table>\n",
       "</div>"
      ],
      "text/plain": [
       "            date  gender  sales\n",
       "region                         \n",
       "North-East   347     347    347\n",
       "North-West   322     322    322\n",
       "South        331     331    331"
      ]
     },
     "execution_count": 6,
     "metadata": {},
     "output_type": "execute_result"
    }
   ],
   "source": [
    "data.groupby('region').count()"
   ]
  },
  {
   "cell_type": "markdown",
   "id": "6b9e7e32",
   "metadata": {},
   "source": [
    "#### 3) Accessing the Groups in a GroupBy object"
   ]
  },
  {
   "cell_type": "code",
   "execution_count": 7,
   "id": "5e2db800",
   "metadata": {},
   "outputs": [
    {
     "data": {
      "text/plain": [
       "{'North-East': [1, 2, 3, 12, 13, 14, 15, 18, 19, 23, 24, 25, 26, 28, 31, 35, 40, 41, 45, 50, 51, 58, 59, 60, 63, 64, 67, 68, 72, 75, 76, 77, 80, 82, 83, 85, 87, 92, 94, 100, 105, 108, 109, 112, 113, 114, 115, 120, 121, 125, 127, 130, 134, 138, 139, 140, 141, 142, 146, 149, 155, 157, 164, 165, 176, 177, 179, 180, 188, 191, 193, 195, 199, 201, 205, 207, 211, 216, 218, 222, 224, 228, 231, 236, 242, 243, 246, 249, 254, 256, 259, 264, 265, 271, 272, 280, 283, 287, 288, 289, ...], 'North-West': [0, 4, 7, 11, 16, 17, 21, 29, 30, 34, 36, 38, 39, 42, 43, 44, 46, 48, 49, 52, 55, 56, 62, 66, 70, 71, 74, 79, 88, 89, 90, 91, 95, 98, 99, 103, 106, 116, 117, 119, 122, 123, 128, 129, 132, 137, 143, 144, 147, 148, 151, 153, 154, 156, 160, 161, 169, 171, 175, 178, 184, 185, 186, 198, 204, 206, 209, 212, 217, 221, 223, 225, 230, 233, 234, 235, 237, 240, 244, 251, 252, 253, 255, 260, 261, 263, 266, 267, 277, 278, 281, 285, 290, 291, 296, 297, 300, 318, 320, 321, ...], 'South': [5, 6, 8, 9, 10, 20, 22, 27, 32, 33, 37, 47, 53, 54, 57, 61, 65, 69, 73, 78, 81, 84, 86, 93, 96, 97, 101, 102, 104, 107, 110, 111, 118, 124, 126, 131, 133, 135, 136, 145, 150, 152, 158, 159, 162, 163, 166, 167, 168, 170, 172, 173, 174, 181, 182, 183, 187, 189, 190, 192, 194, 196, 197, 200, 202, 203, 208, 210, 213, 214, 215, 219, 220, 226, 227, 229, 232, 238, 239, 241, 245, 247, 248, 250, 257, 258, 262, 268, 269, 270, 273, 274, 275, 276, 279, 282, 284, 286, 292, 294, ...]}"
      ]
     },
     "execution_count": 7,
     "metadata": {},
     "output_type": "execute_result"
    }
   ],
   "source": [
    "data.groupby('region').groups"
   ]
  },
  {
   "cell_type": "markdown",
   "id": "dfdbd411",
   "metadata": {},
   "source": [
    "#### 4) Accessing only Group Names of a GroupBy Object"
   ]
  },
  {
   "cell_type": "code",
   "execution_count": 8,
   "id": "a42a46fc",
   "metadata": {},
   "outputs": [
    {
     "data": {
      "text/plain": [
       "dict_keys(['North-East', 'North-West', 'South'])"
      ]
     },
     "execution_count": 8,
     "metadata": {},
     "output_type": "execute_result"
    }
   ],
   "source": [
    "(data.groupby('region').groups.keys ())"
   ]
  },
  {
   "cell_type": "markdown",
   "id": "10cf4cc5",
   "metadata": {},
   "source": [
    "#### 5) Selecting a Group of south region"
   ]
  },
  {
   "cell_type": "code",
   "execution_count": 64,
   "id": "e24e7359",
   "metadata": {},
   "outputs": [
    {
     "name": "stdout",
     "output_type": "stream",
     "text": [
      "           date  gender region  sales\n",
      "5      9/6/2022    Male  South  21792\n",
      "6     8/21/2022    Male  South  20113\n",
      "8    11/22/2022    Male  South  14594\n",
      "9     1/16/2022  Female  South  24114\n",
      "10   12/21/2022    Male  South  35154\n",
      "..          ...     ...    ...    ...\n",
      "972    6/9/2022    Male  South  22254\n",
      "979  11/24/2022  Female  South  25591\n",
      "981   12/5/2022    Male  South  34334\n",
      "985   12/1/2022  Female  South  21282\n",
      "994   9/29/2022    Male  South  21255\n",
      "\n",
      "[331 rows x 4 columns]\n"
     ]
    }
   ],
   "source": [
    "#print(data.groupby('region').get_group('South'))\n",
    "print(data.groupby('region').get_group('South'))"
   ]
  },
  {
   "cell_type": "markdown",
   "id": "a32e9768",
   "metadata": {},
   "source": [
    "#### 6) Findout average Sales per region"
   ]
  },
  {
   "cell_type": "code",
   "execution_count": 10,
   "id": "688f2db4",
   "metadata": {},
   "outputs": [
    {
     "data": {
      "text/plain": [
       "region\n",
       "North-East    17386.072046\n",
       "North-West    15257.732919\n",
       "South         24466.864048\n",
       "Name: sales, dtype: float64"
      ]
     },
     "execution_count": 10,
     "metadata": {},
     "output_type": "execute_result"
    }
   ],
   "source": [
    "data.groupby('region')['sales'].mean()"
   ]
  },
  {
   "cell_type": "markdown",
   "id": "b84949a0",
   "metadata": {},
   "source": [
    "#### 7) Applying Multiple Aggregations Using Pandas GroupBy - Find out Mean, median and variance of sales per region"
   ]
  },
  {
   "cell_type": "code",
   "execution_count": 11,
   "id": "65ff2173",
   "metadata": {},
   "outputs": [
    {
     "name": "stderr",
     "output_type": "stream",
     "text": [
      "C:\\Users\\ds11\\AppData\\Local\\Temp\\ipykernel_18628\\117337985.py:1: FutureWarning: ['date', 'gender'] did not aggregate successfully. If any error is raised this will raise in a future version of pandas. Drop these columns/ops to avoid this warning.\n",
      "  data.groupby('region').aggregate([np.mean,np.median,np.var])\n"
     ]
    },
    {
     "data": {
      "text/html": [
       "<div>\n",
       "<style scoped>\n",
       "    .dataframe tbody tr th:only-of-type {\n",
       "        vertical-align: middle;\n",
       "    }\n",
       "\n",
       "    .dataframe tbody tr th {\n",
       "        vertical-align: top;\n",
       "    }\n",
       "\n",
       "    .dataframe thead tr th {\n",
       "        text-align: left;\n",
       "    }\n",
       "\n",
       "    .dataframe thead tr:last-of-type th {\n",
       "        text-align: right;\n",
       "    }\n",
       "</style>\n",
       "<table border=\"1\" class=\"dataframe\">\n",
       "  <thead>\n",
       "    <tr>\n",
       "      <th></th>\n",
       "      <th colspan=\"3\" halign=\"left\">sales</th>\n",
       "    </tr>\n",
       "    <tr>\n",
       "      <th></th>\n",
       "      <th>mean</th>\n",
       "      <th>median</th>\n",
       "      <th>var</th>\n",
       "    </tr>\n",
       "    <tr>\n",
       "      <th>region</th>\n",
       "      <th></th>\n",
       "      <th></th>\n",
       "      <th></th>\n",
       "    </tr>\n",
       "  </thead>\n",
       "  <tbody>\n",
       "    <tr>\n",
       "      <th>North-East</th>\n",
       "      <td>17386.072046</td>\n",
       "      <td>17414.0</td>\n",
       "      <td>4.131225e+06</td>\n",
       "    </tr>\n",
       "    <tr>\n",
       "      <th>North-West</th>\n",
       "      <td>15257.732919</td>\n",
       "      <td>15337.5</td>\n",
       "      <td>1.311495e+07</td>\n",
       "    </tr>\n",
       "    <tr>\n",
       "      <th>South</th>\n",
       "      <td>24466.864048</td>\n",
       "      <td>24492.0</td>\n",
       "      <td>2.760139e+07</td>\n",
       "    </tr>\n",
       "  </tbody>\n",
       "</table>\n",
       "</div>"
      ],
      "text/plain": [
       "                   sales                       \n",
       "                    mean   median           var\n",
       "region                                         \n",
       "North-East  17386.072046  17414.0  4.131225e+06\n",
       "North-West  15257.732919  15337.5  1.311495e+07\n",
       "South       24466.864048  24492.0  2.760139e+07"
      ]
     },
     "execution_count": 11,
     "metadata": {},
     "output_type": "execute_result"
    }
   ],
   "source": [
    "data.groupby('region').aggregate([np.mean,np.median,np.var])"
   ]
  },
  {
   "cell_type": "markdown",
   "id": "2d28517e",
   "metadata": {},
   "source": [
    "#### 8) Calculate percentage of region's sales per row with respect to total sale of the region"
   ]
  },
  {
   "cell_type": "code",
   "execution_count": 31,
   "id": "0d8e6724",
   "metadata": {},
   "outputs": [
    {
     "name": "stdout",
     "output_type": "stream",
     "text": [
      "Percentage region\n",
      "North-East    31.678282\n",
      "North-West    25.797437\n",
      "South         42.524281\n",
      "Name: sales, dtype: float64\n"
     ]
    }
   ],
   "source": [
    "total_sale = data.groupby('region')['sales'].sum()\n",
    "total_sale\n",
    "Total = np.sum(data['sales'])\n",
    "Total\n",
    "percentage = (total_sale/Total)*100\n",
    "print('Percentage' , percentage)"
   ]
  },
  {
   "cell_type": "markdown",
   "id": "31d4c52b",
   "metadata": {},
   "source": [
    "#### 9) Filtering Rows Where the Group's Average Sale Price is Less Than 20,000\n"
   ]
  },
  {
   "cell_type": "code",
   "execution_count": 66,
   "id": "6b0968fc",
   "metadata": {},
   "outputs": [
    {
     "name": "stdout",
     "output_type": "stream",
     "text": [
      "           date  gender      region  sales\n",
      "0     8/22/2022    Male  North-West  20381\n",
      "1      3/5/2022    Male  North-East  14495\n",
      "2      2/9/2022    Male  North-East  13510\n",
      "3     6/22/2022    Male  North-East  15983\n",
      "4     8/10/2022  Female  North-West  15007\n",
      "..          ...     ...         ...    ...\n",
      "995    6/2/2022  Female  North-West  14015\n",
      "996   5/20/2022  Female  North-East  15503\n",
      "997    4/2/2022    Male  North-East  18714\n",
      "998   12/7/2022    Male  North-East  19910\n",
      "999  12/19/2022  Female  North-West  16589\n",
      "\n",
      "[669 rows x 4 columns]\n"
     ]
    }
   ],
   "source": [
    "data = data.groupby('region').filter(lambda x: x['sales'].mean() < 20000)\n",
    "print(data)"
   ]
  },
  {
   "cell_type": "markdown",
   "id": "888d5128",
   "metadata": {},
   "source": [
    "#### 10) calculate the sum of all sales broken out by 'region' and by 'gender'"
   ]
  },
  {
   "cell_type": "code",
   "execution_count": 68,
   "id": "33321ca0",
   "metadata": {},
   "outputs": [
    {
     "name": "stdout",
     "output_type": "stream",
     "text": [
      "                     sales\n",
      "region     gender         \n",
      "North-East Female  3051132\n",
      "           Male    2981835\n",
      "North-West Female  2455899\n",
      "           Male    2457091\n"
     ]
    }
   ],
   "source": [
    "sums = data.groupby(['region', 'gender']).sum()\n",
    "print(sums.head())"
   ]
  },
  {
   "cell_type": "markdown",
   "id": "92593a0a",
   "metadata": {},
   "source": [
    "#### 11) Ranking Sales by Region and by Gender"
   ]
  },
  {
   "cell_type": "code",
   "execution_count": 70,
   "id": "4f867966",
   "metadata": {},
   "outputs": [
    {
     "name": "stdout",
     "output_type": "stream",
     "text": [
      "           date  gender      region  sales   rank\n",
      "0     8/22/2022    Male  North-West  20381   11.0\n",
      "1      3/5/2022    Male  North-East  14495  154.0\n",
      "2      2/9/2022    Male  North-East  13510  168.0\n",
      "3     6/22/2022    Male  North-East  15983  138.0\n",
      "4     8/10/2022  Female  North-West  15007   89.5\n",
      "..          ...     ...         ...    ...    ...\n",
      "995    6/2/2022  Female  North-West  14015  102.0\n",
      "996   5/20/2022  Female  North-East  15503  145.0\n",
      "997    4/2/2022    Male  North-East  18714   48.0\n",
      "998   12/7/2022    Male  North-East  19910   22.0\n",
      "999  12/19/2022  Female  North-West  16589   65.0\n",
      "\n",
      "[669 rows x 5 columns]\n"
     ]
    }
   ],
   "source": [
    "data['rank'] = data.groupby(['region', 'gender'])['sales'].rank(ascending=False)\n",
    "print(data)"
   ]
  }
 ],
 "metadata": {
  "kernelspec": {
   "display_name": "Python 3 (ipykernel)",
   "language": "python",
   "name": "python3"
  },
  "language_info": {
   "codemirror_mode": {
    "name": "ipython",
    "version": 3
   },
   "file_extension": ".py",
   "mimetype": "text/x-python",
   "name": "python",
   "nbconvert_exporter": "python",
   "pygments_lexer": "ipython3",
   "version": "3.9.12"
  }
 },
 "nbformat": 4,
 "nbformat_minor": 5
}
