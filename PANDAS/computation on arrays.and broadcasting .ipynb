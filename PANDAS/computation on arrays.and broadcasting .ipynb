{
 "cells": [
  {
   "cell_type": "markdown",
   "id": "5f3016c0",
   "metadata": {},
   "source": [
    "computation on arrays : Broadcasting"
   ]
  },
  {
   "cell_type": "markdown",
   "id": "10351e2e",
   "metadata": {},
   "source": [
    "broadcasting means strechings ones shape to match with others shape/size"
   ]
  },
  {
   "cell_type": "code",
   "execution_count": 1,
   "id": "b5500b3f",
   "metadata": {},
   "outputs": [],
   "source": [
    "import numpy as np"
   ]
  },
  {
   "cell_type": "code",
   "execution_count": 3,
   "id": "1257ad28",
   "metadata": {},
   "outputs": [
    {
     "name": "stdout",
     "output_type": "stream",
     "text": [
      "[5 6 7]\n"
     ]
    }
   ],
   "source": [
    "a=np.array([0,1,2])\n",
    "b=np.array([5,5,5])\n",
    "print(a+b)"
   ]
  },
  {
   "cell_type": "code",
   "execution_count": 4,
   "id": "62a495e1",
   "metadata": {},
   "outputs": [
    {
     "data": {
      "text/plain": [
       "array([5, 6, 7])"
      ]
     },
     "execution_count": 4,
     "metadata": {},
     "output_type": "execute_result"
    }
   ],
   "source": [
    "a+5  #scaler value [5,5,5]  mental model "
   ]
  },
  {
   "cell_type": "code",
   "execution_count": 6,
   "id": "d2b3cb9d",
   "metadata": {},
   "outputs": [
    {
     "data": {
      "text/plain": [
       "array([[1., 1., 1.],\n",
       "       [1., 1., 1.],\n",
       "       [1., 1., 1.]])"
      ]
     },
     "execution_count": 6,
     "metadata": {},
     "output_type": "execute_result"
    }
   ],
   "source": [
    "m=np.ones((3,3))\n",
    "m"
   ]
  },
  {
   "cell_type": "code",
   "execution_count": 7,
   "id": "60a4302b",
   "metadata": {},
   "outputs": [
    {
     "data": {
      "text/plain": [
       "array([[1., 2., 3.],\n",
       "       [1., 2., 3.],\n",
       "       [1., 2., 3.]])"
      ]
     },
     "execution_count": 7,
     "metadata": {},
     "output_type": "execute_result"
    }
   ],
   "source": [
    "a+m  #"
   ]
  },
  {
   "cell_type": "markdown",
   "id": "df193a8f",
   "metadata": {},
   "source": [
    "newaxis is called as a pseudo index thatt allows the temporary addition odf an axis into a multiarray"
   ]
  },
  {
   "cell_type": "code",
   "execution_count": 11,
   "id": "7dc837a0",
   "metadata": {},
   "outputs": [
    {
     "name": "stdout",
     "output_type": "stream",
     "text": [
      "[0 1 2]\n",
      "shape of a: (3,)\n",
      "[[0]\n",
      " [1]\n",
      " [2]]\n",
      "shape of b: (3, 1)\n"
     ]
    }
   ],
   "source": [
    "a=np.arange(3)\n",
    "b=np.arange(3)[: , np.newaxis]\n",
    "\n",
    "print(a)\n",
    "print(\"shape of a:\",a.shape)\n",
    "print(b)\n",
    "print(\"shape of b:\",b.shape)"
   ]
  },
  {
   "cell_type": "code",
   "execution_count": 13,
   "id": "9136be6d",
   "metadata": {},
   "outputs": [
    {
     "data": {
      "text/plain": [
       "array([[0, 1, 2],\n",
       "       [1, 2, 3],\n",
       "       [2, 3, 4]])"
      ]
     },
     "execution_count": 13,
     "metadata": {},
     "output_type": "execute_result"
    }
   ],
   "source": [
    "a+b"
   ]
  },
  {
   "cell_type": "code",
   "execution_count": 14,
   "id": "aa2c609c",
   "metadata": {},
   "outputs": [
    {
     "data": {
      "text/plain": [
       "array([[1., 1., 1.],\n",
       "       [2., 2., 2.],\n",
       "       [3., 3., 3.]])"
      ]
     },
     "execution_count": 14,
     "metadata": {},
     "output_type": "execute_result"
    }
   ],
   "source": [
    "b+m"
   ]
  },
  {
   "cell_type": "code",
   "execution_count": 23,
   "id": "07b6df4f",
   "metadata": {},
   "outputs": [
    {
     "name": "stdout",
     "output_type": "stream",
     "text": [
      "[5 3 5 3]\n",
      "[[9 9 2 1]\n",
      " [7 1 8 4]\n",
      " [1 1 2 5]]\n",
      "addition add : [[14 12  7  4]\n",
      " [12  4 13  7]\n",
      " [ 6  4  7  8]]\n"
     ]
    }
   ],
   "source": [
    "#rules of broadcasting \n",
    "x1=np.random.randint(10,size=(4))\n",
    "x2=np.random.randint(10, size=(3,4))\n",
    "print(x1)\n",
    "print(x2)\n",
    "print(\"addition add :\",x1+x2)"
   ]
  },
  {
   "cell_type": "code",
   "execution_count": 26,
   "id": "6fd8c147",
   "metadata": {},
   "outputs": [
    {
     "name": "stdout",
     "output_type": "stream",
     "text": [
      "[[1. 1. 1.]\n",
      " [1. 1. 1.]]\n",
      "[0 1 2]\n"
     ]
    },
    {
     "data": {
      "text/plain": [
       "array([[1., 2., 3.],\n",
       "       [1., 2., 3.]])"
      ]
     },
     "execution_count": 26,
     "metadata": {},
     "output_type": "execute_result"
    }
   ],
   "source": [
    "m=np.ones((2,3))\n",
    "a=np.arange(3)\n",
    "print(m)\n",
    "print(a)\n",
    "m+a"
   ]
  },
  {
   "cell_type": "code",
   "execution_count": 37,
   "id": "ebfb6b27",
   "metadata": {},
   "outputs": [
    {
     "name": "stdout",
     "output_type": "stream",
     "text": [
      "2\n",
      "1\n"
     ]
    },
    {
     "data": {
      "text/plain": [
       "array([[2., 3.],\n",
       "       [2., 3.],\n",
       "       [2., 3.]])"
      ]
     },
     "execution_count": 37,
     "metadata": {},
     "output_type": "execute_result"
    }
   ],
   "source": [
    "m=np.ones((3,2))\n",
    "a=np.arange(1,3)\n",
    "print(m.ndim)\n",
    "print(a.ndim)\n",
    "m+a"
   ]
  },
  {
   "cell_type": "code",
   "execution_count": 56,
   "id": "83b9fd79",
   "metadata": {},
   "outputs": [
    {
     "data": {
      "text/plain": [
       "array([[34, 35, 36],\n",
       "       [ 2, 22, 23],\n",
       "       [48,  1, 40],\n",
       "       [29,  8, 17],\n",
       "       [11, 10, 48],\n",
       "       [33, 32, 37],\n",
       "       [30, 14, 44],\n",
       "       [16, 27, 24],\n",
       "       [23,  5,  5],\n",
       "       [ 4, 22, 45],\n",
       "       [35,  3, 49],\n",
       "       [17, 10,  5],\n",
       "       [15,  6, 42],\n",
       "       [27, 44,  2],\n",
       "       [20, 46,  9],\n",
       "       [ 8,  6, 32],\n",
       "       [42, 46, 20],\n",
       "       [ 0, 23, 38],\n",
       "       [ 7, 46,  8],\n",
       "       [28, 26, 49],\n",
       "       [26, 44, 39],\n",
       "       [ 4, 24, 19],\n",
       "       [15, 21, 44],\n",
       "       [21, 26,  9],\n",
       "       [23, 32, 49],\n",
       "       [ 6, 47, 30],\n",
       "       [26, 49, 15],\n",
       "       [24, 46, 31],\n",
       "       [45, 20, 24],\n",
       "       [10, 43, 37],\n",
       "       [28, 25,  2],\n",
       "       [ 2, 27, 38],\n",
       "       [34, 26, 10],\n",
       "       [22,  2, 18],\n",
       "       [20, 24, 25],\n",
       "       [49,  0, 37],\n",
       "       [18, 15, 31],\n",
       "       [43, 22,  1],\n",
       "       [21, 48, 40],\n",
       "       [19, 31, 47],\n",
       "       [ 3, 38, 38],\n",
       "       [18,  8, 29],\n",
       "       [ 7, 15, 26],\n",
       "       [ 4,  1, 35],\n",
       "       [13, 13, 44],\n",
       "       [31, 17,  3],\n",
       "       [ 1, 22, 30],\n",
       "       [11, 38, 33],\n",
       "       [29, 44,  6],\n",
       "       [44, 18, 20]])"
      ]
     },
     "execution_count": 56,
     "metadata": {},
     "output_type": "execute_result"
    }
   ],
   "source": [
    "p=np.random.randint(50,size=(50,3))  #\n",
    "p\n"
   ]
  },
  {
   "cell_type": "code",
   "execution_count": 61,
   "id": "fa8a6143",
   "metadata": {},
   "outputs": [
    {
     "data": {
      "text/plain": [
       "24.313333333333333"
      ]
     },
     "execution_count": 61,
     "metadata": {},
     "output_type": "execute_result"
    }
   ],
   "source": [
    "A=np.mean(p) #xmean=x.mean(0) column wise\n",
    "A"
   ]
  },
  {
   "cell_type": "code",
   "execution_count": 53,
   "id": "cd0522e8",
   "metadata": {},
   "outputs": [
    {
     "data": {
      "text/plain": [
       "array([19.33333333, 15.        , 15.66666667,  9.33333333, 34.        ,\n",
       "       20.33333333, 29.33333333, 10.33333333, 30.66666667, 16.66666667,\n",
       "       11.33333333, 37.66666667, 16.33333333, 26.33333333,  7.33333333,\n",
       "       14.66666667, 10.33333333, 21.66666667, 14.        , 19.66666667,\n",
       "       17.        , 32.66666667, 24.33333333, 19.        , 14.66666667,\n",
       "       15.        , 10.33333333, 35.33333333, 34.66666667, 28.        ,\n",
       "       26.66666667, 22.33333333, 12.        , 35.        , 12.33333333,\n",
       "       23.66666667, 21.33333333, 32.33333333, 20.        , 30.        ,\n",
       "       23.66666667, 13.33333333, 14.        , 25.        , 27.33333333,\n",
       "       17.33333333, 34.33333333, 36.33333333, 37.        , 27.33333333])"
      ]
     },
     "execution_count": 53,
     "metadata": {},
     "output_type": "execute_result"
    }
   ],
   "source": [
    "np.mean(p , axis=1) #xmean=x.mean(1) row wise"
   ]
  },
  {
   "cell_type": "code",
   "execution_count": 64,
   "id": "1490dea2",
   "metadata": {},
   "outputs": [
    {
     "data": {
      "text/plain": [
       "array([20.92, 24.36, 27.66])"
      ]
     },
     "execution_count": 64,
     "metadata": {},
     "output_type": "execute_result"
    }
   ],
   "source": [
    "xmean=p.mean(0)\n",
    "xmean"
   ]
  },
  {
   "cell_type": "code",
   "execution_count": 65,
   "id": "bb9202aa",
   "metadata": {},
   "outputs": [
    {
     "data": {
      "text/plain": [
       "array([35.        , 15.66666667, 29.66666667, 18.        , 23.        ,\n",
       "       34.        , 29.33333333, 22.33333333, 11.        , 23.66666667,\n",
       "       29.        , 10.66666667, 21.        , 24.33333333, 25.        ,\n",
       "       15.33333333, 36.        , 20.33333333, 20.33333333, 34.33333333,\n",
       "       36.33333333, 15.66666667, 26.66666667, 18.66666667, 34.66666667,\n",
       "       27.66666667, 30.        , 33.66666667, 29.66666667, 30.        ,\n",
       "       18.33333333, 22.33333333, 23.33333333, 14.        , 23.        ,\n",
       "       28.66666667, 21.33333333, 22.        , 36.33333333, 32.33333333,\n",
       "       26.33333333, 18.33333333, 16.        , 13.33333333, 23.33333333,\n",
       "       17.        , 17.66666667, 27.33333333, 26.33333333, 27.33333333])"
      ]
     },
     "execution_count": 65,
     "metadata": {},
     "output_type": "execute_result"
    }
   ],
   "source": [
    "xmean1=p.mean(1)\n",
    "xmean1\n"
   ]
  },
  {
   "cell_type": "code",
   "execution_count": 66,
   "id": "bb950bc7",
   "metadata": {},
   "outputs": [
    {
     "data": {
      "text/plain": [
       "array([ 3.39333333, -0.04666667, -3.34666667])"
      ]
     },
     "execution_count": 66,
     "metadata": {},
     "output_type": "execute_result"
    }
   ],
   "source": [
    "x_centered=A-xmean\n",
    "x_centered"
   ]
  },
  {
   "cell_type": "code",
   "execution_count": 67,
   "id": "62ff42be",
   "metadata": {},
   "outputs": [
    {
     "data": {
      "text/plain": [
       "array([-10.68666667,   8.64666667,  -5.35333333,   6.31333333,\n",
       "         1.31333333,  -9.68666667,  -5.02      ,   1.98      ,\n",
       "        13.31333333,   0.64666667,  -4.68666667,  13.64666667,\n",
       "         3.31333333,  -0.02      ,  -0.68666667,   8.98      ,\n",
       "       -11.68666667,   3.98      ,   3.98      , -10.02      ,\n",
       "       -12.02      ,   8.64666667,  -2.35333333,   5.64666667,\n",
       "       -10.35333333,  -3.35333333,  -5.68666667,  -9.35333333,\n",
       "        -5.35333333,  -5.68666667,   5.98      ,   1.98      ,\n",
       "         0.98      ,  10.31333333,   1.31333333,  -4.35333333,\n",
       "         2.98      ,   2.31333333, -12.02      ,  -8.02      ,\n",
       "        -2.02      ,   5.98      ,   8.31333333,  10.98      ,\n",
       "         0.98      ,   7.31333333,   6.64666667,  -3.02      ,\n",
       "        -2.02      ,  -3.02      ])"
      ]
     },
     "execution_count": 67,
     "metadata": {},
     "output_type": "execute_result"
    }
   ],
   "source": [
    "x_centered1=A-xmean1\n",
    "x_centered1"
   ]
  },
  {
   "cell_type": "code",
   "execution_count": 73,
   "id": "848b38f3",
   "metadata": {},
   "outputs": [
    {
     "name": "stdout",
     "output_type": "stream",
     "text": [
      "x= [0.   1.25 2.5  3.75 5.  ]\n",
      "\n",
      "\n",
      "y= [[0.  ]\n",
      " [1.25]\n",
      " [2.5 ]\n",
      " [3.75]\n",
      " [5.  ]]\n",
      "\n",
      "\n",
      "y. shape= (5, 1)\n",
      "\n",
      "\n",
      "z=  [[-0.83907153  0.32779018  0.6781112   0.69222873  0.41940746]\n",
      " [-0.83907153  0.76170932 -0.67346126  0.43284959  0.41441835]\n",
      " [-0.83907153  0.859756    0.69220188 -0.70614622  0.40969682]\n",
      " [-0.83907153  0.4274637  -0.68717597 -0.39007605  0.40524808]\n",
      " [-0.83907153  0.32224423  0.70553683  0.73318806  0.40107702]]\n",
      "\n",
      "\n",
      "z shape = (5, 5)\n"
     ]
    }
   ],
   "source": [
    "#x and y ha\\ve 50 steps from 0 to 50\n",
    "x=np.linspace(0,5,5)\n",
    "y=np.linspace(0,5,5)[: , np.newaxis]\n",
    "print(\"x=\", x)\n",
    "print(\"\\n\")\n",
    "print(\"y=\", y)\n",
    "print(\"\\n\")\n",
    "print(\"y. shape=\" ,y.shape)\n",
    "print(\"\\n\")\n",
    "z=np.sin(x) ** 10 + np.cos (10+y*x) * np.cos(x)\n",
    "print(\"z= \" ,z)\n",
    "print(\"\\n\")\n",
    "print(\"z shape =\" ,z.shape)"
   ]
  },
  {
   "cell_type": "code",
   "execution_count": 75,
   "id": "edfdd6d2",
   "metadata": {},
   "outputs": [],
   "source": [
    "%matplotlib inline\n",
    "import matplotlib.pyplot as plt"
   ]
  },
  {
   "cell_type": "code",
   "execution_count": 76,
   "id": "5b0ff760",
   "metadata": {},
   "outputs": [
    {
     "data": {
      "image/png": "[encoded data removed]",
      "text/plain": [
       "<Figure size 432x288 with 2 Axes>"
      ]
     },
     "metadata": {
      "needs_background": "light"
     },
     "output_type": "display_data"
    }
   ],
   "source": [
    "plt.imshow(z, origin=\"lower\", extent=[0,5,0,5],\n",
    "          cmap=\"viridis\")\n",
    "plt.colorbar();"
   ]
  },
  {
   "cell_type": "code",
   "execution_count": null,
   "id": "64fd198b",
   "metadata": {},
   "outputs": [],
   "source": []
  },
  {
   "cell_type": "code",
   "execution_count": null,
   "id": "b6061bda",
   "metadata": {},
   "outputs": [],
   "source": []
  },
  {
   "cell_type": "code",
   "execution_count": null,
   "id": "0b72056f",
   "metadata": {},
   "outputs": [],
   "source": []
  },
  {
   "cell_type": "code",
   "execution_count": null,
   "id": "afc33cd7",
   "metadata": {},
   "outputs": [],
   "source": []
  },
  {
   "cell_type": "code",
   "execution_count": null,
   "id": "0a87fed6",
   "metadata": {},
   "outputs": [],
   "source": []
  },
  {
   "cell_type": "code",
   "execution_count": null,
   "id": "7e817757",
   "metadata": {},
   "outputs": [],
   "source": []
  },
  {
   "cell_type": "code",
   "execution_count": null,
   "id": "e0193ff8",
   "metadata": {},
   "outputs": [],
   "source": []
  }
 ],
 "metadata": {
  "kernelspec": {
   "display_name": "Python 3 (ipykernel)",
   "language": "python",
   "name": "python3"
  },
  "language_info": {
   "codemirror_mode": {
    "name": "ipython",
    "version": 3
   },
   "file_extension": ".py",
   "mimetype": "text/x-python",
   "name": "python",
   "nbconvert_exporter": "python",
   "pygments_lexer": "ipython3",
   "version": "3.9.12"
  }
 },
 "nbformat": 4,
 "nbformat_minor": 5
}
